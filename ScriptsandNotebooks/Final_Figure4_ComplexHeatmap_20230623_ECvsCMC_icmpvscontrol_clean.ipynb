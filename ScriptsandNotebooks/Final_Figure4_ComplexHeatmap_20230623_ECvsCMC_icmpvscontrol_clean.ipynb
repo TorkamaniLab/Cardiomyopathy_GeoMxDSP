{
 "cells": [
  {
   "cell_type": "markdown",
   "metadata": {
    "tags": []
   },
   "source": [
    "# Complexheatmap - DE analysis for clinical phenotype and celltypes"
   ]
  },
  {
   "cell_type": "markdown",
   "metadata": {
    "tags": []
   },
   "source": [
    "## PARAMETERS"
   ]
  },
  {
   "cell_type": "code",
   "execution_count": 1,
   "metadata": {},
   "outputs": [
    {
     "data": {
      "text/html": [
       "'PID_Institute_Fixation.interval'"
      ],
      "text/latex": [
       "'PID\\_Institute\\_Fixation.interval'"
      ],
      "text/markdown": [
       "'PID_Institute_Fixation.interval'"
      ],
      "text/plain": [
       "[1] \"PID_Institute_Fixation.interval\""
      ]
     },
     "metadata": {},
     "output_type": "display_data"
    }
   ],
   "source": [
    "# ##################################################################\n",
    "# 'TMA.block'\n",
    "# 'ROI.size'\n",
    "# 'Ventricle'\n",
    "# 'Segment.id'\n",
    "# 'Segment.type' -> \"celltype\"\n",
    "# 'PID'\n",
    "# 'Operation'\n",
    "# 'Fixation.interval'\n",
    "# 'Gender'\n",
    "# 'Age'\n",
    "# 'Institute'\n",
    "# 'Clinical_phenotype_path'\n",
    "# 'Clinical_endstage'\n",
    "# 'After_LVAD'\n",
    "# 'P_Normal'\n",
    "# 'P_Degeneration''P_Hypertrophy''P_Disarray''P_Fibrosis''P_peri_infarction''P_etc'\n",
    "# 'Echo_date''Echo_LVEF''Echo_LVPWd''Echo_IVSd''Echo_chamber_size''Echo_RWMA''Echo_RV_dysfunction''Echo_AR''Echo_MR''Echo_TR'\n",
    "# 'ECG_date''ECG_voltage''ECG_QRS''VTandVF''AF''BNP''Probnp''CardiacMR_DE''Gene'\n",
    "# 'ECG_voltage_n''ECG_QRS_n'\n",
    "# 'Core.c.fullROI'\n",
    "# 'PID.Op''PID.Op.bothblock''ROI.bothsize'\n",
    "# 'Clinical_phenotype_LV''Clinical_phenotype_tri''Clinical_phenotype_bi'\n",
    "\n",
    "# Number of core to use for DREAM analysis\n",
    " NoCore = 16 # 8\n",
    "\n",
    "# # Condition of interest (among column names of met)\n",
    "  COI <- \"celltype\"   # COI <- \"celltype\" \n",
    "    # COI <- \"celltype\" \n",
    "# USING ONLY SPECIFIC SET of CORES - For example cores with full ROI \n",
    "  # FullROI_selection <- \"Y\"\n",
    "  FullROI_selection <- \"N\"\n",
    "\n",
    "# CELL TYPE SELECTION?\n",
    "  # celltype_selection <- \"N\" \n",
    "  celltype_selection <- \"Y\"  \n",
    "\n",
    "  # Which celltype? \n",
    "        cell_type<- c(\"Endothelial_cells\", \"Cardiomyocytes\") # or ...'Endothelial_cells''Cardiomyocytes''No_segmentation''Fibroblasts'\n",
    "        cell_type_nm <- if(celltype_selection == \"Y\") {cell_type_nm = paste(cell_type, collapse=\"_\")\n",
    "                                                       }else{cell_type_nm = \"Non\"\n",
    "                                                             }\n",
    "\n",
    "# ROISIZE SELECTION?\n",
    " ROISIZE_selection <- \"Y\" # or \"N\"\n",
    " ROIsize <- \"large\" # or ...\n",
    "\n",
    "# VENTRICLE SELECTION?\n",
    "    # ventricle_selection <- \"N\"\n",
    "    ventricle_selection <- \"Y\" # or \"N\"\n",
    "    ventricle_type <- \"LV\"\n",
    "\n",
    "# Clinical Disease selection with control samples\n",
    "\n",
    "    disease_selection <- \"Y\"\n",
    "    # disease_selection <- \"N\"\n",
    "\n",
    "    disease_selection_var <- \"Clinical_phenotype_LV\"\n",
    "    disease_type_vector <- c(\"Control\", \"ICMP\")  ## Clinical_phenotype_LV - 'ES_HCMP''ICMP''Control''DCMP''NES_HCMP'\n",
    "    disease_type <- if(disease_selection == \"Y\") {disease_type = disease_type_vector\n",
    "                                                  }else{disease_type= \"Non\"\n",
    "                                                       }\n",
    "\n",
    "# OUTLIER SELECTION?\n",
    " # if no \n",
    "  grid_set = \"Y\" \n",
    "  # grid_set = \"N\"\n",
    "\n",
    " # choose which grid set to use from the PCAgrid()\n",
    "if (grid_set == \"N\") {\n",
    "    outlier_set = \"N\"\n",
    "    } else {\n",
    "    outlier_set =  \"pcaplot_outlier\" #\"pca_grid_10\"# \"pca_grid_10\" # or pca_grid_10, pca_grid_3, etc\n",
    "}\n",
    "\n",
    "RE1 = \"PID\"\n",
    "RE2 = \"Institute\"\n",
    "RE3 = \"Fixation.interval\"\n",
    "# RE4 = \"P_Normal\"\n",
    "# RE4 = \"Clinical_phenotype_LV\"\n",
    "# RE4 = \"...\" \n",
    "#...\n",
    "\n",
    "if (exists(\"RE4\")==TRUE) {\n",
    "    (form <- formula(paste(\"~\", \"condition + (1|\", RE1, \") + (1|\", RE2, \") + (1|\", RE3, \") + (1|\", RE4, \")\", collapse=\"\")))\n",
    "    (form_cont <- formula(paste(\"~ 0 +\", \"condition + (1|\", RE1, \") + (1|\", RE2, \") + (1|\", RE3, \") + (1|\", RE4, \")\", collapse=\"\")))\n",
    "# RE names\n",
    "    (RE_names <- paste(RE1, RE2, RE3, RE4, sep=\"_\"))\n",
    "    }else{\n",
    "    if (exists(\"RE3\")==TRUE) {\n",
    "        (form <- formula(paste(\"~\", \"condition + (1|\", RE1, \") + (1|\", RE2, \") + (1|\", RE3, \")\", collapse=\"\")))\n",
    "        (form_cont <- formula(paste(\"~ 0 +\", \"condition + (1|\", RE1, \") + (1|\", RE2, \") + (1|\", RE3, \")\", collapse=\"\")))\n",
    "\n",
    "# RE names\n",
    "        (RE_names <- paste(RE1, RE2, RE3, sep=\"_\"))\n",
    "        }else{\n",
    "        if (exists(\"RE2\")==TRUE) {\n",
    "            (form <- formula(paste(\"~\", \"condition + (1|\", RE1, \") + (1|\", RE2, \")\", collapse=\"\")))\n",
    "            (form_cont <- formula(paste(\"~ 0 +\", \"condition + (1|\", RE1, \") + (1|\", RE2, \")\", collapse=\"\")))\n",
    "\n",
    "# RE names\n",
    "            (RE_names <- paste(RE1, RE2, sep=\"_\"))\n",
    "            }else{\n",
    "            if (exists(\"RE1\")==TRUE) {\n",
    "                (form <- formula(paste(\"~\", \"condition + (1|\", RE1, \")\", collapse=\"\")))\n",
    "                (form_cont <- formula(paste(\"~ 0 +\", \"condition + (1|\", RE1, \")\", collapse=\"\")))\n",
    "\n",
    "# RE names\n",
    "                (RE_names <- paste(RE1, sep=\"_\"))\n",
    "                }else{\n",
    "                (form <- formula(paste(\"~\", \"condition\", collapse=\"\")))\n",
    "                (form_cont <- formula(paste(\"~ 0 +\", \"condition\", collapse=\"\")))\n",
    "\n",
    "# RE names\n",
    "                (RE_names <- paste(No, sep=\"_\"))\n",
    "                }\n",
    "        }\n",
    "    }\n",
    "}\n",
    "                \n",
    "# Decide Contrast for DREAM\n",
    "\n",
    "# makecontrastasroutine <- \"celltype_comwith_othercells\" \n",
    "makecontrastasroutine <- \"Forclinicaldisease\" # or \"Y\" to make it according to the number of condition\n",
    "# makecontrastasroutine <- \"Y\" #to make it according to the number of condition\n",
    "\n",
    "# Small sample number analysis \n",
    " KRanaly <- \"Y\"\n",
    " # KRanaly <- \"N\"\n",
    "# Order of batch correction\n",
    "# Cell-type selection -> Batch correction\n",
    "\n",
    "# Outlier \n",
    "# remove Sejong\n",
    "# Normalization method = Upper quartile \n",
    "# ##################################################################"
   ]
  },
  {
   "cell_type": "code",
   "execution_count": 2,
   "metadata": {
    "tags": []
   },
   "outputs": [
    {
     "data": {
      "text/html": [
       "'SejongIn_celltype_FullROI_N_cellselection_Y_Endothelial_cells_Cardiomyocytes_ROI_large_Vent_LV_DsSelect_Control__ICMP_Y_OL_pcaplot_outlier_RE_PID_Institute_Fixation.interval_KR_Y2023-06-23'"
      ],
      "text/latex": [
       "'SejongIn\\_celltype\\_FullROI\\_N\\_cellselection\\_Y\\_Endothelial\\_cells\\_Cardiomyocytes\\_ROI\\_large\\_Vent\\_LV\\_DsSelect\\_Control\\_\\_ICMP\\_Y\\_OL\\_pcaplot\\_outlier\\_RE\\_PID\\_Institute\\_Fixation.interval\\_KR\\_Y2023-06-23'"
      ],
      "text/markdown": [
       "'SejongIn_celltype_FullROI_N_cellselection_Y_Endothelial_cells_Cardiomyocytes_ROI_large_Vent_LV_DsSelect_Control__ICMP_Y_OL_pcaplot_outlier_RE_PID_Institute_Fixation.interval_KR_Y2023-06-23'"
      ],
      "text/plain": [
       "[1] \"SejongIn_celltype_FullROI_N_cellselection_Y_Endothelial_cells_Cardiomyocytes_ROI_large_Vent_LV_DsSelect_Control__ICMP_Y_OL_pcaplot_outlier_RE_PID_Institute_Fixation.interval_KR_Y2023-06-23\""
      ]
     },
     "metadata": {},
     "output_type": "display_data"
    }
   ],
   "source": [
    "(Analysis_name = paste(\"SejongIn_\", COI, \"_FullROI_\", FullROI_selection, \n",
    "                      \"_cellselection_\", celltype_selection,\n",
    "                                \"_\", cell_type_nm, \n",
    "                                \"_ROI_\", ROIsize,\n",
    "                                \"_Vent_\", ventricle_type,\n",
    "                                \"_DsSelect_\", paste0(disease_type, \"_\", collapse=\"_\"), disease_selection, \n",
    "                                \"_\", \"OL_\", outlier_set,\n",
    "                                \"_RE_\", RE_names,\n",
    "                                \"_KR_\", KRanaly,\n",
    "                      Sys.Date(), sep=\"\"))"
   ]
  },
  {
   "cell_type": "markdown",
   "metadata": {
    "tags": [],
    "toc-hr-collapsed": true
   },
   "source": [
    "# PREPARATION"
   ]
  },
  {
   "cell_type": "markdown",
   "metadata": {
    "tags": []
   },
   "source": [
    "## Set up library"
   ]
  },
  {
   "cell_type": "code",
   "execution_count": 3,
   "metadata": {
    "ExecuteTime": {
     "end_time": "2021-12-16T23:44:54.536290Z",
     "start_time": "2021-12-16T23:44:54.512Z"
    },
    "hidden": true,
    "tags": []
   },
   "outputs": [],
   "source": [
    "# R.Version()\n",
    "# BiocManager::install(version = \"3.14\")\n",
    "# BiocManager::install(\"sva\")\n",
    "# BiocManager::install(\"ggplot2\")\n",
    "# BiocManager::install(\"gridExtra\")\n",
    "# BiocManager::install(\"edgeR\")\n",
    "# BiocManager::install(\"UpSetR\")\n",
    "# BiocManager::install(\"tidyverse\")\n",
    "# BiocManager::install(\"BatchQC\")\n",
    "# BiocManager::install(\"RUVSeq\")\n",
    "# BiocManager::install(\"RColorBrewer\")\n",
    "# BiocManager::install(\"Glimma\")\n",
    "# BiocManager::install(\"variancePartition\")\n",
    "# BiocManager::install(\"BiocParallel\")\n",
    "# install.packages(\"gplots\")\n",
    "# install.packages(\"NMF\")\n",
    "# BiocManager::install(\"GO.db\")\n",
    "# BiocManager::install(\"org.Hs.eg.db\")\n",
    "# devtools::install_github(\"GabrielHoffman/variancePartition\")\n",
    "# remotes::install_github(\"valentint/rrcov\")\n",
    "# BiocManager::install(\"GSA\")\n",
    "# BiocManager::install(\"RCurl\")\n",
    "# BiocManager::install(\"RCy3\")"
   ]
  },
  {
   "cell_type": "code",
   "execution_count": 4,
   "metadata": {
    "ExecuteTime": {
     "end_time": "2021-12-16T23:45:06.008649Z",
     "start_time": "2021-12-16T23:44:54.517Z"
    },
    "hidden": true,
    "scrolled": true,
    "tags": []
   },
   "outputs": [
    {
     "name": "stderr",
     "output_type": "stream",
     "text": [
      "Loading required package: mgcv\n",
      "\n",
      "Loading required package: nlme\n",
      "\n",
      "This is mgcv 1.8-42. For overview type 'help(\"mgcv-package\")'.\n",
      "\n",
      "Loading required package: genefilter\n",
      "\n",
      "Loading required package: BiocParallel\n",
      "\n",
      "Loading required package: limma\n",
      "\n",
      "── \u001b[1mAttaching core tidyverse packages\u001b[22m ──────────────────────── tidyverse 2.0.0 ──\n",
      "\u001b[32m✔\u001b[39m \u001b[34mdplyr    \u001b[39m 1.1.0     \u001b[32m✔\u001b[39m \u001b[34mreadr    \u001b[39m 2.1.4\n",
      "\u001b[32m✔\u001b[39m \u001b[34mforcats  \u001b[39m 1.0.0     \u001b[32m✔\u001b[39m \u001b[34mstringr  \u001b[39m 1.5.0\n",
      "\u001b[32m✔\u001b[39m \u001b[34mlubridate\u001b[39m 1.9.2     \u001b[32m✔\u001b[39m \u001b[34mtibble   \u001b[39m 3.2.0\n",
      "\u001b[32m✔\u001b[39m \u001b[34mpurrr    \u001b[39m 1.0.1     \u001b[32m✔\u001b[39m \u001b[34mtidyr    \u001b[39m 1.3.0\n",
      "── \u001b[1mConflicts\u001b[22m ────────────────────────────────────────── tidyverse_conflicts() ──\n",
      "\u001b[31m✖\u001b[39m \u001b[34mdplyr\u001b[39m::\u001b[32mcollapse()\u001b[39m masks \u001b[34mnlme\u001b[39m::collapse()\n",
      "\u001b[31m✖\u001b[39m \u001b[34mdplyr\u001b[39m::\u001b[32mcombine()\u001b[39m  masks \u001b[34mgridExtra\u001b[39m::combine()\n",
      "\u001b[31m✖\u001b[39m \u001b[34mdplyr\u001b[39m::\u001b[32mfilter()\u001b[39m   masks \u001b[34mstats\u001b[39m::filter()\n",
      "\u001b[31m✖\u001b[39m \u001b[34mdplyr\u001b[39m::\u001b[32mlag()\u001b[39m      masks \u001b[34mstats\u001b[39m::lag()\n",
      "\u001b[31m✖\u001b[39m \u001b[34mreadr\u001b[39m::\u001b[32mspec()\u001b[39m     masks \u001b[34mgenefilter\u001b[39m::spec()\n",
      "\u001b[36mℹ\u001b[39m Use the conflicted package (\u001b[3m\u001b[34m<http://conflicted.r-lib.org/>\u001b[39m\u001b[23m) to force all conflicts to become errors\n",
      "\n",
      "Attaching package: ‘gplots’\n",
      "\n",
      "\n",
      "The following object is masked from ‘package:stats’:\n",
      "\n",
      "    lowess\n",
      "\n",
      "\n",
      "Loading required package: registry\n",
      "\n",
      "Loading required package: rngtools\n",
      "\n",
      "Loading required package: cluster\n",
      "\n",
      "NMF - BioConductor layer [OK] | Shared memory capabilities [NO: synchronicity] | Cores 19/20\n",
      "\n",
      "  To enable shared memory capabilities, try: install.extras('\n",
      "NMF\n",
      "')\n",
      "\n",
      "\n",
      "Attaching package: ‘NMF’\n",
      "\n",
      "\n",
      "The following object is masked from ‘package:BiocParallel’:\n",
      "\n",
      "    register\n",
      "\n",
      "\n",
      "The following object is masked from ‘package:nlme’:\n",
      "\n",
      "    coef<-\n",
      "\n",
      "\n",
      "Loading required package: AnnotationDbi\n",
      "\n",
      "Loading required package: stats4\n",
      "\n",
      "Loading required package: IRanges\n",
      "\n",
      "Loading required package: S4Vectors\n",
      "\n",
      "\n",
      "Attaching package: ‘S4Vectors’\n",
      "\n",
      "\n",
      "The following object is masked from ‘package:NMF’:\n",
      "\n",
      "    nrun\n",
      "\n",
      "\n",
      "The following object is masked from ‘package:gplots’:\n",
      "\n",
      "    space\n",
      "\n",
      "\n",
      "The following objects are masked from ‘package:lubridate’:\n",
      "\n",
      "    second, second<-\n",
      "\n",
      "\n",
      "The following objects are masked from ‘package:dplyr’:\n",
      "\n",
      "    first, rename\n",
      "\n",
      "\n",
      "The following object is masked from ‘package:tidyr’:\n",
      "\n",
      "    expand\n",
      "\n",
      "\n",
      "The following object is masked from ‘package:base’:\n",
      "\n",
      "    expand.grid\n",
      "\n",
      "\n",
      "\n",
      "Attaching package: ‘IRanges’\n",
      "\n",
      "\n",
      "The following object is masked from ‘package:lubridate’:\n",
      "\n",
      "    %within%\n",
      "\n",
      "\n",
      "The following objects are masked from ‘package:dplyr’:\n",
      "\n",
      "    collapse, desc, slice\n",
      "\n",
      "\n",
      "The following object is masked from ‘package:purrr’:\n",
      "\n",
      "    reduce\n",
      "\n",
      "\n",
      "The following object is masked from ‘package:nlme’:\n",
      "\n",
      "    collapse\n",
      "\n",
      "\n",
      "\n",
      "Attaching package: ‘AnnotationDbi’\n",
      "\n",
      "\n",
      "The following object is masked from ‘package:dplyr’:\n",
      "\n",
      "    select\n",
      "\n",
      "\n",
      "\n",
      "\n",
      "\n",
      "\n",
      "\n",
      "Attaching package: ‘matrixStats’\n",
      "\n",
      "\n",
      "The following objects are masked from ‘package:Biobase’:\n",
      "\n",
      "    anyMissing, rowMedians\n",
      "\n",
      "\n",
      "The following object is masked from ‘package:dplyr’:\n",
      "\n",
      "    count\n",
      "\n",
      "\n",
      "The following objects are masked from ‘package:genefilter’:\n",
      "\n",
      "    rowSds, rowVars\n",
      "\n",
      "\n",
      "Loading required package: ggrepel\n",
      "\n",
      "Loading required package: reshape2\n",
      "\n",
      "\n",
      "Attaching package: ‘reshape2’\n",
      "\n",
      "\n",
      "The following object is masked from ‘package:tidyr’:\n",
      "\n",
      "    smiths\n",
      "\n",
      "\n",
      "Loading required package: lattice\n",
      "\n",
      "\n",
      "Attaching package: ‘lattice’\n",
      "\n",
      "\n",
      "The following object is masked from ‘package:UpSetR’:\n",
      "\n",
      "    histogram\n",
      "\n",
      "\n",
      "Loading required package: cowplot\n",
      "\n",
      "\n",
      "Attaching package: ‘cowplot’\n",
      "\n",
      "\n",
      "The following object is masked from ‘package:lubridate’:\n",
      "\n",
      "    stamp\n",
      "\n",
      "\n",
      "Warning message:\n",
      "“multiple methods tables found for ‘which’”\n",
      "\n",
      "Attaching package: ‘PCAtools’\n",
      "\n",
      "\n",
      "The following objects are masked from ‘package:stats’:\n",
      "\n",
      "    biplot, screeplot\n",
      "\n",
      "\n",
      "Setting options('download.file.method.GEOquery'='auto')\n",
      "\n",
      "Setting options('GEOquery.inmemory.gpl'=FALSE)\n",
      "\n",
      "Loading required package: spatstat.data\n",
      "\n",
      "Loading required package: spatstat.geom\n",
      "\n",
      "spatstat.geom 3.1-0\n",
      "\n",
      "\n",
      "Attaching package: ‘spatstat.geom’\n",
      "\n",
      "\n",
      "The following objects are masked from ‘package:IRanges’:\n",
      "\n",
      "    reflect, shift\n",
      "\n",
      "\n",
      "The following object is masked from ‘package:cluster’:\n",
      "\n",
      "    volume\n",
      "\n",
      "\n",
      "The following object is masked from ‘package:gplots’:\n",
      "\n",
      "    col2hex\n",
      "\n",
      "\n",
      "The following object is masked from ‘package:limma’:\n",
      "\n",
      "    weighted.median\n",
      "\n",
      "\n",
      "The following object is masked from ‘package:genefilter’:\n",
      "\n",
      "    area\n",
      "\n",
      "\n",
      "Loading required package: spatstat.random\n",
      "\n",
      "spatstat.random 3.1-4\n",
      "\n",
      "Loading required package: spatstat.explore\n",
      "\n",
      "spatstat.explore 3.1-0\n",
      "\n",
      "\n",
      "Attaching package: ‘spatstat.explore’\n",
      "\n",
      "\n",
      "The following object is masked from ‘package:lattice’:\n",
      "\n",
      "    panel.histogram\n",
      "\n",
      "\n",
      "Loading required package: spatstat.model\n",
      "\n",
      "Loading required package: rpart\n",
      "\n",
      "spatstat.model 3.2-1\n",
      "\n",
      "\n",
      "Attaching package: ‘spatstat.model’\n",
      "\n",
      "\n",
      "The following object is masked from ‘package:lattice’:\n",
      "\n",
      "    panel.histogram\n",
      "\n",
      "\n",
      "Loading required package: spatstat.linnet\n",
      "\n",
      "spatstat.linnet 3.0-6\n",
      "\n",
      "\n",
      "spatstat 3.0-3 \n",
      "For an introduction to spatstat, type ‘beginner’ \n",
      "\n",
      "\n",
      "\n",
      "Attaching package: ‘RCurl’\n",
      "\n",
      "\n",
      "The following object is masked from ‘package:tidyr’:\n",
      "\n",
      "    complete\n",
      "\n",
      "\n",
      "\n",
      "Attaching package: ‘data.table’\n",
      "\n",
      "\n",
      "The following object is masked from ‘package:spatstat.geom’:\n",
      "\n",
      "    shift\n",
      "\n",
      "\n",
      "The following objects are masked from ‘package:reshape2’:\n",
      "\n",
      "    dcast, melt\n",
      "\n",
      "\n",
      "The following object is masked from ‘package:IRanges’:\n",
      "\n",
      "    shift\n",
      "\n",
      "\n",
      "The following objects are masked from ‘package:S4Vectors’:\n",
      "\n",
      "    first, second\n",
      "\n",
      "\n",
      "The following objects are masked from ‘package:lubridate’:\n",
      "\n",
      "    hour, isoweek, mday, minute, month, quarter, second, wday, week,\n",
      "    yday, year\n",
      "\n",
      "\n",
      "The following objects are masked from ‘package:dplyr’:\n",
      "\n",
      "    between, first, last\n",
      "\n",
      "\n",
      "The following object is masked from ‘package:purrr’:\n",
      "\n",
      "    transpose\n",
      "\n",
      "\n",
      "========================================\n",
      "ComplexHeatmap version 2.4.3\n",
      "Bioconductor page: http://bioconductor.org/packages/ComplexHeatmap/\n",
      "Github page: https://github.com/jokergoo/ComplexHeatmap\n",
      "Documentation: http://jokergoo.github.io/ComplexHeatmap-reference\n",
      "\n",
      "If you use it in published research, please cite:\n",
      "Gu, Z. Complex heatmaps reveal patterns and correlations in multidimensional \n",
      "  genomic data. Bioinformatics 2016.\n",
      "\n",
      "This message can be suppressed by:\n",
      "  suppressPackageStartupMessages(library(ComplexHeatmap))\n",
      "========================================\n",
      "\n",
      "\n",
      "\n",
      "Attaching package: ‘ComplexHeatmap’\n",
      "\n",
      "\n",
      "The following object is masked from ‘package:genefilter’:\n",
      "\n",
      "    dist2\n",
      "\n",
      "\n"
     ]
    }
   ],
   "source": [
    "library(\"sva\")\n",
    "library(\"ggplot2\")\n",
    "library(\"gridExtra\")\n",
    "library(\"edgeR\")\n",
    "library(\"UpSetR\")\n",
    "library(\"tidyverse\")\n",
    "library(\"BatchQC\")\n",
    "library(\"RColorBrewer\")\n",
    "library(\"Glimma\")\n",
    "library(\"variancePartition\")\n",
    "library(\"BiocParallel\")\n",
    "library(\"gplots\")\n",
    "library(\"NMF\")\n",
    "library(\"GO.db\")\n",
    "library(\"org.Hs.eg.db\")\n",
    "library(preprocessCore)\n",
    "library(genefilter)\n",
    "library(matrixStats)\n",
    "library(rafalib)\n",
    "library(PCAtools)\n",
    "library(Biobase)\n",
    "library(GEOquery)\n",
    "library(bigutilsr)\n",
    "library(spatstat)\n",
    "library(matrixStats)\n",
    "library(RCurl)\n",
    "library(GSA)\n",
    "library(RCy3)\n",
    "library(fgsea)\n",
    "library(data.table)\n",
    "# library(plotly) # has conflict with org.Hs.eg.db select\n",
    "# library(rrcov) # has conflict with biplot detach(rrcov)\n",
    "library(DT) \n",
    "library(grid)\n",
    "library(ComplexHeatmap)\n",
    "library(cluster)"
   ]
  },
  {
   "cell_type": "code",
   "execution_count": 5,
   "metadata": {},
   "outputs": [],
   "source": [
    "options(repr.plot.width=20, repr.plot.height=10)\n"
   ]
  },
  {
   "cell_type": "markdown",
   "metadata": {
    "jp-MarkdownHeadingCollapsed": true,
    "tags": [],
    "toc-hr-collapsed": true
   },
   "source": [
    "## FUNCTIONS"
   ]
  },
  {
   "cell_type": "markdown",
   "metadata": {
    "tags": []
   },
   "source": [
    "### Function to select groups according to phenotype"
   ]
  },
  {
   "cell_type": "code",
   "execution_count": 6,
   "metadata": {
    "tags": []
   },
   "outputs": [],
   "source": [
    "# if want to choose phenotpye dataset w, colname x , variable y, expressiondataset z)\n",
    "# example \n",
    "# X=\"Segment.id\"\n",
    "# Y=\"Cardiomyocytes\"\n",
    "# W=\"p\"\n",
    "# Z=\"e_abc\"\n",
    "\n",
    "select_group <- function(x,y,w,z){\n",
    "    df_p <- get(w)\n",
    "    \n",
    "assign(paste(w, y, sep=\"_\"),df_p[df_p[[x]]==y,], envir = parent.frame()) # envir = parent.frame() to use the new variable out of function\n",
    "    # use assign instaed of <- due to paste make \"\" \n",
    "    # use [[]] instaed of $\n",
    "    df_e <- get(z)\n",
    "    df_p_new <- get(paste(w, y, sep=\"_\"))\n",
    "\n",
    "assign(paste(z, y, sep=\"_\"), df_e[,colnames(df_e)%in%rownames(df_p_new)], envir = parent.frame())    \n",
    "    df_e_new <- get(paste(z, y, sep=\"_\"))\n",
    "\n",
    "print(paste(\"the samples in phenotype and expression data is identical:\", identical(colnames(df_e_new), rownames(df_p_new))))\n",
    "\n",
    "print(paste(\"the file name of the phenotype data is \", w, \"_\", y, sep=\"\"))\n",
    "print(paste(\"and the sample count in phenotype data is\", dim(df_p_new)[1]))\n",
    "print(paste(\"the file name of the expression data is \", z, \"_\", y, sep=\"\"))\n",
    "print(paste(\"and the sample count in expression data is\", dim(df_e_new)[2]))\n",
    "    }\n",
    "\n",
    "# # example of the outcome\n",
    "# [1] \"the samples in phenotype and expression data is identical: TRUE\"\n",
    "# [1] \"the file name of the phenotype data is p_Cardiomyocytes\"\n",
    "# [1] \"and the sample count in phenotype data is 91\"\n",
    "# [1] \"the file name of the expression data is e_abc_Cardiomyocytes\"\n",
    "# [1] \"and the sample count in expression data is 91\"\n"
   ]
  },
  {
   "cell_type": "markdown",
   "metadata": {},
   "source": [
    "### Function to remove group according to a phenotype"
   ]
  },
  {
   "cell_type": "code",
   "execution_count": 7,
   "metadata": {},
   "outputs": [],
   "source": [
    "# if want to choose phenotpye dataset w, colname x , variable y, expressiondataset z)\n",
    "# example \n",
    "# X=\"Institute\"\n",
    "# Y=\"Sejong\"\n",
    "# W=\"met\"\n",
    "# Z=\"exp_rmnp\"\n",
    "\n",
    "remove_group <- function(x,y,w,z){\n",
    "    df_p <- get(w)\n",
    "    \n",
    "assign(paste(w, y, sep=\"_rm_\"),df_p[df_p[[x]]!=y,], envir = parent.frame()) # envir = parent.frame() to use the new variable out of function\n",
    "    # use assign instaed of <- due to paste make \"\" \n",
    "    # use [[]] instaed of $\n",
    "    df_e <- get(z)\n",
    "    df_p_new <- get(paste(w, y, sep=\"_rm_\"))\n",
    "\n",
    "assign(paste(z, y, sep=\"_rm_\"), df_e[,colnames(df_e)%in%rownames(df_p_new)], envir = parent.frame())    \n",
    "    df_e_new <- get(paste(z, y, sep=\"_rm_\"))\n",
    "\n",
    "print(paste(\"the samples in phenotype and expression data is identical:\", identical(colnames(df_e_new), rownames(df_p_new))))\n",
    "\n",
    "print(paste(\"the file name of the phenotype data is \", w, \"_rm_\", y, sep=\"\"))\n",
    "print(paste(\"and the sample count in phenotype data is\", dim(df_p_new)[1]))\n",
    "print(paste(\"the file name of the expression data is \", z, \"_rm_\", y, sep=\"\"))\n",
    "print(paste(\"and the sample count in expression data is\", dim(df_e_new)[2]))\n",
    "    }\n",
    "\n",
    "# # example of the outcome\n",
    "# [1] \"the samples in phenotype and expression data is identical: TRUE\"\n",
    "# [1] \"the file name of the phenotype data is p_Cardiomyocytes\"\n",
    "# [1] \"and the sample count in phenotype data is 91\"\n",
    "# [1] \"the file name of the expression data is e_abc_Cardiomyocytes\"\n",
    "# [1] \"and the sample count in expression data is 91\""
   ]
  },
  {
   "cell_type": "markdown",
   "metadata": {
    "tags": []
   },
   "source": [
    "### Function to select groups according to multiple phenotypes"
   ]
  },
  {
   "cell_type": "code",
   "execution_count": 8,
   "metadata": {
    "tags": []
   },
   "outputs": [],
   "source": [
    "# if want to choose phenotpye dataset w, colname x , vector of variables y, expressiondataset z)\n",
    "# example ## select Control, HCMP only\n",
    "# HCMPs <- c('Control','ES_HCMP', 'NES_HCMP') # Name of phenotypes to compare\n",
    "# X=\"Clinical_phenotype_2nd\"\n",
    "# Y=\"HCMPs\"\n",
    "# W=\"p_Cardiomyocytes_rm_sp_gridflag_large_LV\"\n",
    "# Z=\"e_cmc_cb_rm_sp_gridflag_large_LV\"\n",
    "\n",
    "select_group_m <- function(x,y,w,z){\n",
    "    df_p <- get(w)\n",
    "    df_y <- get(y)\n",
    "assign(paste(w, y, sep=\"_\"),df_p[df_p[[x]]%in%df_y,], envir = parent.frame()) # envir = parent.frame() to use the new variable out of function\n",
    "    # use assign instaed of <- due to paste make \"\" \n",
    "    # use [[]] instaed of $\n",
    "    df_e <- get(z)\n",
    "    df_p_new <- get(paste(w, y, sep=\"_\"))\n",
    "\n",
    "assign(paste(z, y, sep=\"_\"), df_e[,colnames(df_e)%in%rownames(df_p_new)], envir = parent.frame())    \n",
    "    df_e_new <- get(paste(z, y, sep=\"_\"))\n",
    "\n",
    "print(paste(\"the samples in phenotype and expression data is identical:\", identical(colnames(df_e_new), rownames(df_p_new))))\n",
    "\n",
    "print(paste(\"the file name of the phenotype data is \", w, \"_\", y, sep=\"\"))\n",
    "print(paste(\"and the sample count in phenotype data is\", dim(df_p_new)[1]))\n",
    "print(paste(\"the file name of the expression data is \", z, \"_\", y, sep=\"\"))\n",
    "print(paste(\"and the sample count in expression data is\", dim(df_e_new)[2]))\n",
    "    }\n",
    "\n",
    "# # example of the outcome\n",
    "# [1] \"the samples in phenotype and expression data is identical: TRUE\"\n",
    "# [1] \"the file name of the phenotype data is p_Cardiomyocytes_rm_sp_gridflag_large_LV_HCMPs\"\n",
    "# [1] \"and the sample count in phenotype data is 30\"\n",
    "# [1] \"the file name of the expression data is e_cmc_cb_rm_sp_gridflag_large_LV_HCMPs\"\n",
    "# [1] \"and the sample count in expression data is 30\"\n"
   ]
  },
  {
   "cell_type": "markdown",
   "metadata": {
    "tags": []
   },
   "source": [
    "### Function to remove specific samples "
   ]
  },
  {
   "cell_type": "code",
   "execution_count": 9,
   "metadata": {},
   "outputs": [],
   "source": [
    "# if want to choose phenotpye dataset y, vector of samples to remove x, expressiondataset z)\n",
    "# example vectors from pca_grid \n",
    "# sp_gridflag <-names(pca_grid_all$flag[pca_grid_all$flag==FALSE])\n",
    "# X=\"sp_gridflag\"\n",
    "# Y=\"p_Cardiomyocytes\"\n",
    "# Z=\"e_cmc_cb_nl\"\n",
    "# df_p[!(rownames(df_p)%in%df_s),]\n",
    "# df_e[,!(colnames(df_e)%in%df_s)]\n",
    "remove_sample <- function(x,y,z){\n",
    "    df_p <- get(y)\n",
    "    df_e <- get(z)\n",
    "    df_s <- get(x)\n",
    "# new phenotype dataset    \n",
    "assign(paste(y, x, sep=\"_rm_\"), df_p[!(rownames(df_p)%in%df_s),], envir = parent.frame()) # envir = parent.frame() to use the new variable out of function\n",
    "    # use assign instaed of <- due to paste make \"\" \n",
    "    df_p_new <- get(paste(y, x, sep=\"_rm_\"))\n",
    "\n",
    "assign(paste(z, x, sep=\"_rm_\"), df_e[,!(colnames(df_e)%in%df_s)], envir = parent.frame())    \n",
    "    df_e_new <- get(paste(z, x, sep=\"_rm_\"))\n",
    "\n",
    "print(paste(\"the samples in phenotype and expression data is identical:\", identical(colnames(df_e_new), rownames(df_p_new))))\n",
    "\n",
    "print(paste(\"the file name of the phenotype data is \", y, \"_rm_\", x, sep=\"\"))\n",
    "print(paste(\"and the sample count in phenotype data is\", dim(df_p_new)[1]))\n",
    "print(paste(\"the file name of the expression data is \", z, \"_rm_\", x, sep=\"\"))\n",
    "print(paste(\"and the sample count in expression data is\", dim(df_e_new)[2]))\n",
    "    }\n",
    "\n",
    "# # example of the outcome\n",
    "# [1] \"the samples in phenotype and expression data is identical: TRUE\"\n",
    "# [1] \"the file name of the phenotype data is p_Cardiomyocytes_rm_sp_gridflag\"\n",
    "# [1] \"and the sample count in phenotype data is 86\"\n",
    "# [1] \"the file name of the expression data is e_cmc_cb_nl_rm_sp_gridflag\"\n",
    "# [1] \"and the sample count in expression data is 86\""
   ]
  },
  {
   "cell_type": "markdown",
   "metadata": {
    "tags": []
   },
   "source": [
    "### Function to select specific samples"
   ]
  },
  {
   "cell_type": "code",
   "execution_count": 10,
   "metadata": {},
   "outputs": [],
   "source": [
    "# if want to choose phenotpye dataset y, vector of samples to remove x, expressiondataset z)\n",
    "# example vectors from pca_grid \n",
    "# sp_gridflag <-names(pca_grid_all$flag[pca_grid_all$flag==FALSE])\n",
    "# X=\"sp_gridflag\"\n",
    "# Y=\"p_Cardiomyocytes\"\n",
    "# Z=\"e_cmc_cb_nl\"\n",
    "# df_p[!(rownames(df_p)%in%df_s),]\n",
    "# df_e[,!(colnames(df_e)%in%df_s)]\n",
    "select_sample <- function(x,y,z){\n",
    "    df_p <- get(y)\n",
    "    df_e <- get(z)\n",
    "    df_s <- get(x)\n",
    "# new phenotype dataset    \n",
    "assign(paste(y, x, sep=\"_w_\"), df_p[(rownames(df_p)%in%df_s),], envir = parent.frame()) # envir = parent.frame() to use the new variable out of function\n",
    "    # use assign instaed of <- due to paste make \"\" \n",
    "    df_p_new <- get(paste(y, x, sep=\"_w_\"))\n",
    "\n",
    "assign(paste(z, x, sep=\"_w_\"), df_e[,(colnames(df_e)%in%df_s)], envir = parent.frame())    \n",
    "    df_e_new <- get(paste(z, x, sep=\"_w_\"))\n",
    "\n",
    "print(paste(\"the samples in phenotype and expression data is identical:\", identical(colnames(df_e_new), rownames(df_p_new))))\n",
    "\n",
    "print(paste(\"the file name of the phenotype data is \", y, \"_w_\", x, sep=\"\"))\n",
    "print(paste(\"and the sample count in phenotype data is\", dim(df_p_new)[1]))\n",
    "print(paste(\"the file name of the expression data is \", z, \"_w_\", x, sep=\"\"))\n",
    "print(paste(\"and the sample count in expression data is\", dim(df_e_new)[2]))\n",
    "    }\n",
    "\n",
    "# # example of the outcome\n",
    "# [1] \"the samples in phenotype and expression data is identical: TRUE\"\n",
    "# [1] \"the file name of the phenotype data is p_Cardiomyocytes_rm_sp_gridflag\"\n",
    "# [1] \"and the sample count in phenotype data is 86\"\n",
    "# [1] \"the file name of the expression data is e_cmc_cb_nl_rm_sp_gridflag\"\n",
    "# [1] \"and the sample count in expression data is 86\""
   ]
  },
  {
   "cell_type": "markdown",
   "metadata": {},
   "source": [
    "### Function to compare two sample's correlation - 1 : qqplot_bc_nl(x,y)"
   ]
  },
  {
   "cell_type": "code",
   "execution_count": 11,
   "metadata": {},
   "outputs": [],
   "source": [
    "### Function to compare two sample's correlation - 1 : qqplot_bc_nl(x,y)\n",
    "## my first function\n",
    "## making function par(mfrow=c(2,2))\n",
    "qqplot_bc_nl <- function(x, y) {\n",
    "    print(paste(\"Comparing\", x, \" and \", y, \"with qqplot\"))\n",
    "    par(mfrow=c(2,4))\n",
    "\n",
    "# exp_out : before batch correction\n",
    "qqplot(log2(exp_out[,x]+1), log2(exp_out[,y]+1), main=\"before batch corr and normalization, log2\")\n",
    "abline(c(0,1), col=1, lwd=3)\n",
    "\n",
    "qqplot(exp_out[,x], exp_out[,y], main=\"before batch corr and normalization\")\n",
    "abline(c(0,1), col=1, lwd=3)\n",
    "\n",
    "# normalization before batch correction\n",
    "# e_bb_norm = normalize.quantiles(as.matrix(exp_out))\n",
    "# colnames(e_bb_norm) <- colnames(exp_out)\n",
    "# rownames(e_bb_norm) <- rownames(exp_out)\n",
    "    \n",
    "qqplot(log2(e_bb_norm[,x]+1), log2(e_bb_norm[,y]+1), main=\"before batch corr after normalization, log2\")\n",
    "abline(c(0,1), col=1, lwd=3)\n",
    "\n",
    "qqplot(e_bb_norm[,x], e_bb_norm[,y], main=\"before batch corr after normalization\")\n",
    "abline(c(0,1), col=1, lwd=3)\n",
    "\n",
    "# after batch correction\n",
    "\n",
    "qqplot(log2(e[,x]+1), log2(e[,y]+1), main=\"after batch corr before normalization, log2\")\n",
    "abline(c(0,1), col=1, lwd=3)\n",
    "\n",
    "qqplot(e[,x], e[,y], main=\"after batch corr before normalization\")\n",
    "abline(c(0,1), col=1, lwd=3)\n",
    "\n",
    "# after normalization\n",
    "# e_norm = normalize.quantiles(as.matrix(e))\n",
    "# colnames(e_norm) <- colnames(e)\n",
    "# rownames(e_norm) <- rownames(e)\n",
    "\n",
    "qqplot(log2(e_norm[,x]+1), log2(e_norm[,y]+1), main=\"after batch corr after normalization, log2\")\n",
    "abline(c(0,1), col=1, lwd=3)\n",
    "\n",
    "qqplot(e_norm[,x], e_norm[,y], main=\"after batch corr after normalization\")\n",
    "abline(c(0,1), col=1, lwd=3)\n",
    "\n",
    "}"
   ]
  },
  {
   "cell_type": "markdown",
   "metadata": {
    "tags": []
   },
   "source": [
    "### Function to compare two sample's correlation - 2 : maplot_bc_nl(x,y)"
   ]
  },
  {
   "cell_type": "code",
   "execution_count": 12,
   "metadata": {
    "tags": []
   },
   "outputs": [],
   "source": [
    "### Function to compare two sample's correlation - 2 : maplot_bc_nl(x,y)\n",
    "# ## making second function\n",
    "# plot(x,y,xlab=\"Father's height in inches\",ylab=\"Son's height in inches\",main=paste(\"correlation =\",signif(cor(x,y),2)))\n",
    "\n",
    "maplot_bc_nl <- function(x, y) {\n",
    "    print(paste(\"Comparing\", x, \" and \", y, \"with maplot\"))\n",
    "    par(mfrow=c(2,4))\n",
    "    \n",
    "# before batch correction\n",
    "\n",
    "mm2 = log2(exp_out[,x]+1) - log2(exp_out[,y]+1)\n",
    "aa2 = log2(exp_out[,x]+1) + log2(exp_out[,y]+1)\n",
    "plot(aa2,mm2,col=2, main=paste(\"standard deviation\", round(sd(mm2),2), \"before batch corr before normalization, log2\"))\n",
    "abline(c(0,0), col=2, lwd=3)\n",
    "    \n",
    "mm = exp_out[,x] - exp_out[,y]\n",
    "aa = (exp_out[,1]+exp_out[,2])/2\n",
    "plot(aa,mm,col=2, main=paste(\"standard deviation\", round(sd(mm),2), \"before batch corr before normalization\"))\n",
    "abline(c(0,0), col=2, lwd=3)\n",
    "\n",
    "\n",
    "# normalization before batch correction\n",
    "mm2_normal = log2(e_bb_norm[,x]+1) - log2(e_bb_norm[,y]+1)\n",
    "aa2_normal = log2(e_bb_norm[,x]+1) + log2(e_bb_norm[,y]+1)\n",
    "plot(aa2_normal,mm2_normal,col=2, main=paste(\"standard deviation\", round(sd(mm2_normal),2), \"before batch corr after normalization, log2\"))\n",
    "abline(c(0,0), col=1, lwd=3)\n",
    "  \n",
    "    \n",
    "mm_normal = e_bb_norm[,x] - e_bb_norm[,y]\n",
    "aa_normal = (e_bb_norm[,x] + e_bb_norm[,y])/2\n",
    "plot(aa_normal,mm_normal,col=2, main=paste(\"standard deviation\", round(sd(mm_normal),2), \"before batch corr after normalization\"))\n",
    "abline(c(0,0), col=2, lwd=3)\n",
    "    \n",
    "\n",
    "# after batch correction\n",
    "    \n",
    "mm1 = log2(e[,x]+1) - log2(e[,y]+1)\n",
    "aa1 = log2(e[,x]+1) + log2(e[,y]+1)\n",
    "plot(aa1,mm1,col=2 , main=paste(\"standard deviation\", round(sd(mm1),2), \"after batch corr before normalization, log2\"))\n",
    "abline(c(0,0), col=2, lwd=3)\n",
    "    \n",
    "mm_bc = e[,x] - e[,y]\n",
    "aa_bc = (e[,x] + e[,y])/2\n",
    "plot(aa_bc,mm_bc,col=2, main=paste(\"standard deviation\", round(sd(mm_bc),2), \"after batch corr before normalization\"))\n",
    "abline(c(0,0), col=2, lwd=3)\n",
    "    \n",
    "# normalization after batch correction\n",
    "mm1_normal = log2(e_norm[,x]+1) - log2(e_norm[,y]+1)\n",
    "aa1_normal = log2(e_norm[,x]+1) + log2(e_norm[,y]+1)\n",
    "plot(aa1_normal,mm1_normal,col=2, main=paste(\"standard deviation\", round(sd(mm1_normal),2), \"after batch corr after normalization, log2\"))\n",
    "abline(c(0,0), col=1, lwd=3)\n",
    "    \n",
    "mm_bcnormal = e_norm[,x] - e_norm[,y]\n",
    "aa_bcnormal = (e_norm[,x] + e_norm[,y])/2\n",
    "plot(aa_bcnormal,mm_bcnormal,col=2, main=paste(\"standard deviation\", round(sd(mm_bcnormal),2), \"after batch corr after normalization\"))\n",
    "abline(c(0,0), col=2, lwd=3)\n",
    "\n",
    "}"
   ]
  },
  {
   "cell_type": "markdown",
   "metadata": {
    "tags": []
   },
   "source": [
    "### Function to compare two sample's correlation - 3 : plot_bc_nl(x,y)"
   ]
  },
  {
   "cell_type": "code",
   "execution_count": 13,
   "metadata": {
    "tags": []
   },
   "outputs": [],
   "source": [
    "### Function to compare two sample's correlation - 3 : plot_bc_nl(x,y)\n",
    "## making function par(mfrow=c(2,2))\n",
    "# plot(x,y,xlab=\"Father's height in inches\",ylab=\"Son's height in inches\",main=paste(\"correlation =\",signif(cor(x,y),2)))\n",
    "\n",
    "plot_bc_nl <- function(x, y) {\n",
    "    print(paste(\"Comparing\", x, \" and \", y, \"with simple plot\"))\n",
    "    par(mfrow=c(2,4))\n",
    "\n",
    "# exp_out : before batch correction\n",
    "plot(log2(exp_out[,x]+1), log2(exp_out[,y]+1), main=paste(\"correlation=\", signif(cor(log2(exp_out[,x]+1), log2(exp_out[,y]+1)),2),\"before batch corr and normalization, log2\"))\n",
    "abline(c(0,1), col=1, lwd=3)\n",
    "\n",
    "plot(exp_out[,x], exp_out[,y], main=paste(\"correlation=\", signif(cor(exp_out[,x], exp_out[,y]),2),\"before batch corr and normalization\"))\n",
    "abline(c(0,1), col=1, lwd=3)\n",
    "\n",
    "# normalization before batch correction\n",
    "# e_bb_norm = normalize.quantiles(as.matrix(exp_out))\n",
    "# colnames(e_bb_norm) <- colnames(exp_out)\n",
    "# rownames(e_bb_norm) <- rownames(exp_out)\n",
    "    \n",
    "plot(log2(e_bb_norm[,x]+1), log2(e_bb_norm[,y]+1), main=paste(\"correlation=\", signif(cor(log2(e_bb_norm[,x]+1), log2(e_bb_norm[,y]+1)),2),\"before batch corr after normalization, log2\"))\n",
    "abline(c(0,1), col=1, lwd=3)\n",
    "\n",
    "plot(e_bb_norm[,x], e_bb_norm[,y], main=paste(\"correlation=\", signif(cor(e_bb_norm[,x], e_bb_norm[,y]),2),\"before batch corr after normalization\"))\n",
    "abline(c(0,1), col=1, lwd=3)\n",
    "\n",
    "# after batch correction\n",
    "\n",
    "plot(log2(e[,x]+1), log2(e[,y]+1), main=paste(\"correlation=\", signif(cor(log2(e[,x]+1), log2(e[,y]+1)),2),\"after batch corr before normalization, log2\"))\n",
    "abline(c(0,1), col=1, lwd=3)\n",
    "\n",
    "plot(e[,x], e[,y], main=paste(\"correlation=\", signif(cor(e[,x], e[,y]),2),\"after batch corr before normalization\"))\n",
    "abline(c(0,1), col=1, lwd=3)\n",
    "\n",
    "# after normalization\n",
    "# e_norm = normalize.quantiles(as.matrix(e))\n",
    "# colnames(e_norm) <- colnames(e)\n",
    "# rownames(e_norm) <- rownames(e)\n",
    "\n",
    "plot(log2(e_norm[,x]+1), log2(e_norm[,y]+1), main=paste(\"correlation=\", signif(cor(log2(e_norm[,x]+1), log2(e_norm[,y]+1)),2),\"after batch corr after normalization, log2\"))\n",
    "abline(c(0,1), col=1, lwd=3)\n",
    "\n",
    "plot(e_norm[,x], e_norm[,y], main=paste(\"correlation=\", signif(cor(e_norm[,x], e_norm[,y]),2),\"after batch corr after normalization\"))\n",
    "abline(c(0,1), col=1, lwd=3)\n",
    "\n",
    "}"
   ]
  },
  {
   "cell_type": "markdown",
   "metadata": {
    "tags": []
   },
   "source": [
    "### Function to compare two sample's correlation - 4 : summary_lm(x,y)"
   ]
  },
  {
   "cell_type": "code",
   "execution_count": 14,
   "metadata": {
    "tags": []
   },
   "outputs": [],
   "source": [
    "### Function to compare two sample's correlation - 4 : summary_lm(x,y)\n",
    "## making function par(mfrow=c(2,2))\n",
    "summary_lm <- function(x, y) {\n",
    "print(paste(\"Comparing\", x, \" and \", y, \"with linear regression\"))\n",
    "\n",
    "    a<-lm(log2(exp_out[,x]+1) ~ log2(exp_out[,y]+1))\n",
    "    b<-lm(exp_out[,x] ~ exp_out[,y])\n",
    "    \n",
    "    c <- lm(log2(e_bb_norm[,x]+1) ~ log2(e_bb_norm[,y]+1))\n",
    "    d <- lm(e_bb_norm[,x] ~ e_bb_norm[,y])\n",
    "\n",
    "# after batch correction\n",
    "\n",
    "    f <- lm(log2(e[,x]+1) ~ log2(e[,y]+1))\n",
    "    g <- lm(e[,x] ~ e[,y])\n",
    "\n",
    "# after normalization\n",
    "    h <- lm(log2(e_norm[,x]+1) ~ log2(e_norm[,y]+1))\n",
    "    i <- lm(e_norm[,x] ~ e_norm[,y])\n",
    "\n",
    "    \n",
    "\n",
    "    print(\"before batch correction before normalization\")\n",
    "    print(a$coefficients[2])\n",
    "    print(b$coefficients[2])\n",
    "\n",
    "    print(\"before batch correction after normalization\")\n",
    "    \n",
    "    print(c$coefficients[2])\n",
    "    print(d$coefficients[2])\n",
    "    \n",
    "    print(\"after batch correction before normalization\")\n",
    "    \n",
    "    print(f$coefficients[2])\n",
    "    print(g$coefficients[2])\n",
    "    \n",
    "    print(\"after batch correction after normalization\")\n",
    "    \n",
    "    print(h$coefficients[2])\n",
    "    print(i$coefficients[2])\n",
    "\n",
    "}"
   ]
  },
  {
   "cell_type": "markdown",
   "metadata": {},
   "source": [
    "### Function to compare two sample's distance - 5 : distance_eucl"
   ]
  },
  {
   "cell_type": "code",
   "execution_count": 15,
   "metadata": {
    "tags": []
   },
   "outputs": [],
   "source": [
    "# # calculate all euclidean distance first - for time saving once \n",
    "#     d_exp_out <- dist(t(exp_out))\n",
    "#     d_e_bb_norm <- dist(t(e_bb_norm))\n",
    "#     d_e <- dist(t(e))\n",
    "#     d_e_norm <- dist(t(e_norm))"
   ]
  },
  {
   "cell_type": "code",
   "execution_count": 16,
   "metadata": {
    "tags": []
   },
   "outputs": [],
   "source": [
    "### Function to compare two sample's distance - 5 : distance_eucl(x,y)\n",
    "## making function par(mfrow=c(2,2))\n",
    "distance_eucl <- function(x, y) {\n",
    "print(paste(\"Comparing\", x, \" and \", y, \"with euclidean distance\"))\n",
    "# calculate all euclidean distance first - for time saving once \n",
    "    # d_exp_out <- dist(t(exp_out))\n",
    "    # d_e_bb_norm <- dist(t(e_bb_norm))\n",
    "    # d_e <- dist(t(e))\n",
    "    # d_e_norm <- dist(t(e_norm))\n",
    "    \n",
    "    a<-as.matrix(d_exp_out)[x,y]\n",
    "    b<-as.matrix(d_e_bb_norm)[x,y]\n",
    "    c<-as.matrix(d_e)[x,y]\n",
    "    d<-as.matrix(d_e_norm)[x,y]\n",
    "\n",
    "    print(\"distance before batch correction before normalization\")\n",
    "    print(a)\n",
    "    print(\"distance before batch correction after normalization\")\n",
    "    print(b)\n",
    "    print(\"distance after batch correction before normalization\")\n",
    "    print(c)\n",
    "    print(\"distance after batch correction after normalization\")\n",
    "    print(d)\n",
    "    \n",
    "}"
   ]
  },
  {
   "cell_type": "markdown",
   "metadata": {
    "cell_style": "center",
    "heading_collapsed": true,
    "tags": [],
    "toc-hr-collapsed": true
   },
   "source": [
    "# INPUT DATA"
   ]
  },
  {
   "cell_type": "markdown",
   "metadata": {
    "hidden": true,
    "tags": []
   },
   "source": [
    "##  Input data - new "
   ]
  },
  {
   "cell_type": "code",
   "execution_count": 17,
   "metadata": {},
   "outputs": [
    {
     "data": {
      "text/html": [
       "TRUE"
      ],
      "text/latex": [
       "TRUE"
      ],
      "text/markdown": [
       "TRUE"
      ],
      "text/plain": [
       "[1] TRUE"
      ]
     },
     "metadata": {},
     "output_type": "display_data"
    }
   ],
   "source": [
    "# Decide Input file\n",
    "Input_expr_data = \"Probe_QC_1percfilter.csv\"\n",
    "Input_pheno_data = \"Spatial_Annotation.csv\"\n",
    "\n",
    "# Read Input files\n",
    "exp_qc <- read.csv(Input_expr_data, row.names = 1, header = TRUE, stringsAsFactors=FALSE)\n",
    "met_tmp<- read.csv(Input_pheno_data, header=TRUE, stringsAsFactors=FALSE)\n",
    "\n",
    "# Modify Input data\n",
    "met_tmp <- met_tmp %>% mutate(Name=paste(Scan.name, formatC(ROI..label., width=3, flag=\"0\"), Segment..Name..Label., sep=\"...\"))\n",
    "rownames(met_tmp)<- gsub(' ', '.', met_tmp$Name)\n",
    "\n",
    "met<-met_tmp[match(colnames(exp_qc), rownames(met_tmp)),]\n",
    "identical(colnames(exp_qc), rownames(met))\n",
    "\n",
    "met <- met %>% mutate(TMA.block = factor(TMA.block))"
   ]
  },
  {
   "cell_type": "code",
   "execution_count": 18,
   "metadata": {},
   "outputs": [],
   "source": [
    "celltype <- as.factor(met$Segment..Name..Label.)\n",
    "celltype <- gsub(\"Full ROI\", \"No_Seg\",celltype) \n",
    "celltype <- gsub(\"Trp\", \"CMC\", celltype)\n",
    "celltype <- gsub(\"vessel\", \"EC\", celltype)\n",
    "celltype <- gsub(\"fb\", \"FB\", celltype)"
   ]
  },
  {
   "cell_type": "code",
   "execution_count": 19,
   "metadata": {},
   "outputs": [],
   "source": [
    "met <- cbind(met, celltype)"
   ]
  },
  {
   "cell_type": "markdown",
   "metadata": {
    "tags": []
   },
   "source": [
    "## Remove negative probe"
   ]
  },
  {
   "cell_type": "code",
   "execution_count": 20,
   "metadata": {},
   "outputs": [
    {
     "data": {
      "text/html": [
       "'integer'"
      ],
      "text/latex": [
       "'integer'"
      ],
      "text/markdown": [
       "'integer'"
      ],
      "text/plain": [
       "[1] \"integer\""
      ]
     },
     "metadata": {},
     "output_type": "display_data"
    },
    {
     "data": {
      "text/html": [
       "<style>\n",
       ".list-inline {list-style: none; margin:0; padding: 0}\n",
       ".list-inline>li {display: inline-block}\n",
       ".list-inline>li:not(:last-child)::after {content: \"\\00b7\"; padding: 0 .5ex}\n",
       "</style>\n",
       "<ol class=list-inline><li>12800</li><li>178</li></ol>\n"
      ],
      "text/latex": [
       "\\begin{enumerate*}\n",
       "\\item 12800\n",
       "\\item 178\n",
       "\\end{enumerate*}\n"
      ],
      "text/markdown": [
       "1. 12800\n",
       "2. 178\n",
       "\n",
       "\n"
      ],
      "text/plain": [
       "[1] 12800   178"
      ]
     },
     "metadata": {},
     "output_type": "display_data"
    },
    {
     "data": {
      "text/html": [
       "<style>\n",
       ".list-inline {list-style: none; margin:0; padding: 0}\n",
       ".list-inline>li {display: inline-block}\n",
       ".list-inline>li:not(:last-child)::after {content: \"\\00b7\"; padding: 0 .5ex}\n",
       "</style>\n",
       "<ol class=list-inline><li>12801</li><li>178</li></ol>\n"
      ],
      "text/latex": [
       "\\begin{enumerate*}\n",
       "\\item 12801\n",
       "\\item 178\n",
       "\\end{enumerate*}\n"
      ],
      "text/markdown": [
       "1. 12801\n",
       "2. 178\n",
       "\n",
       "\n"
      ],
      "text/plain": [
       "[1] 12801   178"
      ]
     },
     "metadata": {},
     "output_type": "display_data"
    }
   ],
   "source": [
    "negprobe=which(rownames(exp_qc)%in%\"NegProbe-WTX\")\n",
    "\n",
    "class(negprobe)\n",
    "\n",
    "exp_rmnp <- exp_qc[-negprobe,]\n",
    "dim(exp_rmnp)\n",
    "dim(exp_qc)"
   ]
  },
  {
   "cell_type": "markdown",
   "metadata": {
    "jp-MarkdownHeadingCollapsed": true,
    "tags": []
   },
   "source": [
    "## GENE ANNOTATION (GENEID)"
   ]
  },
  {
   "cell_type": "code",
   "execution_count": 21,
   "metadata": {},
   "outputs": [],
   "source": [
    "if (\"plotly\" %in% tolower((.packages())) == TRUE) {\n",
    "    detach(\"package:plotly\", unload=TRUE)\n",
    "    }"
   ]
  },
  {
   "cell_type": "code",
   "execution_count": 22,
   "metadata": {},
   "outputs": [],
   "source": [
    "symbols <- rownames(exp_rmnp)"
   ]
  },
  {
   "cell_type": "code",
   "execution_count": 23,
   "metadata": {},
   "outputs": [
    {
     "name": "stderr",
     "output_type": "stream",
     "text": [
      "'select()' returned 1:many mapping between keys and columns\n",
      "\n"
     ]
    }
   ],
   "source": [
    "fdata <- select(org.Hs.eg.db, symbols, c(\"ENTREZID\", \"GENENAME\"), \"SYMBOL\")"
   ]
  },
  {
   "cell_type": "code",
   "execution_count": 24,
   "metadata": {},
   "outputs": [
    {
     "data": {
      "text/html": [
       "FALSE"
      ],
      "text/latex": [
       "FALSE"
      ],
      "text/markdown": [
       "FALSE"
      ],
      "text/plain": [
       "[1] FALSE"
      ]
     },
     "metadata": {},
     "output_type": "display_data"
    }
   ],
   "source": [
    "identical(fdata$SYMBOL,symbols)"
   ]
  },
  {
   "cell_type": "code",
   "execution_count": 25,
   "metadata": {},
   "outputs": [],
   "source": [
    "## There are duplicates and missing"
   ]
  },
  {
   "cell_type": "code",
   "execution_count": 26,
   "metadata": {},
   "outputs": [],
   "source": [
    "## first remove duplicates"
   ]
  },
  {
   "cell_type": "code",
   "execution_count": 27,
   "metadata": {
    "tags": []
   },
   "outputs": [],
   "source": [
    "## MENO1 take 51072 according to nanostring excel information"
   ]
  },
  {
   "cell_type": "code",
   "execution_count": 28,
   "metadata": {},
   "outputs": [
    {
     "data": {
      "text/html": [
       "<style>\n",
       ".list-inline {list-style: none; margin:0; padding: 0}\n",
       ".list-inline>li {display: inline-block}\n",
       ".list-inline>li:not(:last-child)::after {content: \"\\00b7\"; padding: 0 .5ex}\n",
       "</style>\n",
       "<ol class=list-inline><li>17</li><li>18</li></ol>\n"
      ],
      "text/latex": [
       "\\begin{enumerate*}\n",
       "\\item 17\n",
       "\\item 18\n",
       "\\end{enumerate*}\n"
      ],
      "text/markdown": [
       "1. 17\n",
       "2. 18\n",
       "\n",
       "\n"
      ],
      "text/plain": [
       "[1] 17 18"
      ]
     },
     "metadata": {},
     "output_type": "display_data"
    }
   ],
   "source": [
    "which(fdata$SYMBOL==\"MEMO1\")"
   ]
  },
  {
   "cell_type": "code",
   "execution_count": 29,
   "metadata": {},
   "outputs": [],
   "source": [
    "fdata_nodup <- fdata[-17,]"
   ]
  },
  {
   "cell_type": "code",
   "execution_count": 30,
   "metadata": {
    "tags": []
   },
   "outputs": [
    {
     "data": {
      "text/html": [
       "<style>\n",
       ".list-inline {list-style: none; margin:0; padding: 0}\n",
       ".list-inline>li {display: inline-block}\n",
       ".list-inline>li:not(:last-child)::after {content: \"\\00b7\"; padding: 0 .5ex}\n",
       "</style>\n",
       "<ol class=list-inline><li>12800</li><li>3</li></ol>\n"
      ],
      "text/latex": [
       "\\begin{enumerate*}\n",
       "\\item 12800\n",
       "\\item 3\n",
       "\\end{enumerate*}\n"
      ],
      "text/markdown": [
       "1. 12800\n",
       "2. 3\n",
       "\n",
       "\n"
      ],
      "text/plain": [
       "[1] 12800     3"
      ]
     },
     "metadata": {},
     "output_type": "display_data"
    }
   ],
   "source": [
    "dim(fdata_nodup)"
   ]
  },
  {
   "cell_type": "code",
   "execution_count": 31,
   "metadata": {},
   "outputs": [
    {
     "data": {
      "text/html": [
       "17"
      ],
      "text/latex": [
       "17"
      ],
      "text/markdown": [
       "17"
      ],
      "text/plain": [
       "[1] 17"
      ]
     },
     "metadata": {},
     "output_type": "display_data"
    }
   ],
   "source": [
    "which(fdata_nodup$SYMBOL==\"MEMO1\")"
   ]
  },
  {
   "cell_type": "code",
   "execution_count": 32,
   "metadata": {},
   "outputs": [],
   "source": [
    "## Replace Missing ENTREZIDs with IDs in Geomx file"
   ]
  },
  {
   "cell_type": "code",
   "execution_count": 33,
   "metadata": {
    "tags": []
   },
   "outputs": [
    {
     "data": {
      "text/html": [
       "62"
      ],
      "text/latex": [
       "62"
      ],
      "text/markdown": [
       "62"
      ],
      "text/plain": [
       "[1] 62"
      ]
     },
     "metadata": {},
     "output_type": "display_data"
    }
   ],
   "source": [
    "symbols_noID<-fdata_nodup$SYMBOL[which(is.na(fdata_nodup$ENTREZID))]\n",
    "length(symbols_noID)"
   ]
  },
  {
   "cell_type": "code",
   "execution_count": 34,
   "metadata": {},
   "outputs": [],
   "source": [
    "gene_list = \"gene_list.csv\"\n",
    "geomx_gene <-read.csv(gene_list, header=TRUE, stringsAsFactors=FALSE)"
   ]
  },
  {
   "cell_type": "code",
   "execution_count": 35,
   "metadata": {},
   "outputs": [],
   "source": [
    "geomx_glist<-geomx_gene[,c(\"TargetName\",\"GeneID\")]"
   ]
  },
  {
   "cell_type": "code",
   "execution_count": 36,
   "metadata": {},
   "outputs": [
    {
     "data": {
      "text/html": [
       "62"
      ],
      "text/latex": [
       "62"
      ],
      "text/markdown": [
       "62"
      ],
      "text/plain": [
       "[1] 62"
      ]
     },
     "metadata": {},
     "output_type": "display_data"
    }
   ],
   "source": [
    "missing_geomx <- geomx_glist$TargetName[which(geomx_glist$TargetName%in%symbols_noID)]\n",
    "length(which(geomx_glist$TargetName%in%symbols_noID))"
   ]
  },
  {
   "cell_type": "code",
   "execution_count": 37,
   "metadata": {
    "tags": []
   },
   "outputs": [],
   "source": [
    "missing_glist<-geomx_glist[which(geomx_glist$TargetName%in%symbols_noID),]"
   ]
  },
  {
   "cell_type": "code",
   "execution_count": 38,
   "metadata": {},
   "outputs": [
    {
     "data": {
      "text/html": [
       "TRUE"
      ],
      "text/latex": [
       "TRUE"
      ],
      "text/markdown": [
       "TRUE"
      ],
      "text/plain": [
       "[1] TRUE"
      ]
     },
     "metadata": {},
     "output_type": "display_data"
    }
   ],
   "source": [
    "reorder_missing_glist<-missing_glist[match(symbols_noID,missing_geomx),]\n",
    "identical(reorder_missing_glist$TargetName, symbols_noID)\n",
    "\n",
    "# fdata_nodup$ENTREZID[which(is.na(fdata_nodup$ENTREZID))]<-missing_geomx_tb$GeneID"
   ]
  },
  {
   "cell_type": "code",
   "execution_count": 39,
   "metadata": {
    "tags": []
   },
   "outputs": [],
   "source": [
    "fdata_nodup$ENTREZID[which(is.na(fdata_nodup$ENTREZID))] <- reorder_missing_glist$GeneID"
   ]
  },
  {
   "cell_type": "markdown",
   "metadata": {},
   "source": [
    "### check duplicated IDs"
   ]
  },
  {
   "cell_type": "code",
   "execution_count": 40,
   "metadata": {},
   "outputs": [
    {
     "data": {
      "text/html": [
       "<table class=\"dataframe\">\n",
       "<caption>A data.frame: 6 × 3</caption>\n",
       "<thead>\n",
       "\t<tr><th></th><th scope=col>SYMBOL</th><th scope=col>ENTREZID</th><th scope=col>GENENAME</th></tr>\n",
       "\t<tr><th></th><th scope=col>&lt;chr&gt;</th><th scope=col>&lt;chr&gt;</th><th scope=col>&lt;chr&gt;</th></tr>\n",
       "</thead>\n",
       "<tbody>\n",
       "\t<tr><th scope=row>4255</th><td>NAT2 </td><td>10   </td><td>N-acetyltransferase 2        </td></tr>\n",
       "\t<tr><th scope=row>4460</th><td>ADA  </td><td>100  </td><td>adenosine deaminase          </td></tr>\n",
       "\t<tr><th scope=row>8004</th><td>CDH2 </td><td>1000 </td><td>cadherin 2                   </td></tr>\n",
       "\t<tr><th scope=row>2680</th><td>AKT3 </td><td>10000</td><td>AKT serine/threonine kinase 3</td></tr>\n",
       "\t<tr><th scope=row>7322</th><td>MED6 </td><td>10001</td><td>mediator complex subunit 6   </td></tr>\n",
       "\t<tr><th scope=row>7544</th><td>ACOT8</td><td>10005</td><td>acyl-CoA thioesterase 8      </td></tr>\n",
       "</tbody>\n",
       "</table>\n"
      ],
      "text/latex": [
       "A data.frame: 6 × 3\n",
       "\\begin{tabular}{r|lll}\n",
       "  & SYMBOL & ENTREZID & GENENAME\\\\\n",
       "  & <chr> & <chr> & <chr>\\\\\n",
       "\\hline\n",
       "\t4255 & NAT2  & 10    & N-acetyltransferase 2        \\\\\n",
       "\t4460 & ADA   & 100   & adenosine deaminase          \\\\\n",
       "\t8004 & CDH2  & 1000  & cadherin 2                   \\\\\n",
       "\t2680 & AKT3  & 10000 & AKT serine/threonine kinase 3\\\\\n",
       "\t7322 & MED6  & 10001 & mediator complex subunit 6   \\\\\n",
       "\t7544 & ACOT8 & 10005 & acyl-CoA thioesterase 8      \\\\\n",
       "\\end{tabular}\n"
      ],
      "text/markdown": [
       "\n",
       "A data.frame: 6 × 3\n",
       "\n",
       "| <!--/--> | SYMBOL &lt;chr&gt; | ENTREZID &lt;chr&gt; | GENENAME &lt;chr&gt; |\n",
       "|---|---|---|---|\n",
       "| 4255 | NAT2  | 10    | N-acetyltransferase 2         |\n",
       "| 4460 | ADA   | 100   | adenosine deaminase           |\n",
       "| 8004 | CDH2  | 1000  | cadherin 2                    |\n",
       "| 2680 | AKT3  | 10000 | AKT serine/threonine kinase 3 |\n",
       "| 7322 | MED6  | 10001 | mediator complex subunit 6    |\n",
       "| 7544 | ACOT8 | 10005 | acyl-CoA thioesterase 8       |\n",
       "\n"
      ],
      "text/plain": [
       "     SYMBOL ENTREZID GENENAME                     \n",
       "4255 NAT2   10       N-acetyltransferase 2        \n",
       "4460 ADA    100      adenosine deaminase          \n",
       "8004 CDH2   1000     cadherin 2                   \n",
       "2680 AKT3   10000    AKT serine/threonine kinase 3\n",
       "7322 MED6   10001    mediator complex subunit 6   \n",
       "7544 ACOT8  10005    acyl-CoA thioesterase 8      "
      ]
     },
     "metadata": {},
     "output_type": "display_data"
    }
   ],
   "source": [
    "test_dupl<-fdata_nodup[order(fdata_nodup$ENTREZID),]\n",
    "head(test_dupl)"
   ]
  },
  {
   "cell_type": "code",
   "execution_count": 41,
   "metadata": {},
   "outputs": [
    {
     "data": {
      "text/html": [],
      "text/latex": [],
      "text/markdown": [],
      "text/plain": [
       "integer(0)"
      ]
     },
     "metadata": {},
     "output_type": "display_data"
    }
   ],
   "source": [
    "which(duplicated(test_dupl$ENTREZID)==TRUE)"
   ]
  },
  {
   "cell_type": "code",
   "execution_count": 42,
   "metadata": {
    "tags": []
   },
   "outputs": [],
   "source": [
    "duplicated_fdata<-test_dupl[duplicated(test_dupl$ENTREZID)|duplicated(test_dupl$ENTREZID, fromLast=TRUE),]"
   ]
  },
  {
   "cell_type": "code",
   "execution_count": 43,
   "metadata": {},
   "outputs": [
    {
     "data": {
      "text/html": [
       "<table class=\"dataframe\">\n",
       "<caption>A data.frame: 0 × 3</caption>\n",
       "<thead>\n",
       "\t<tr><th scope=col>SYMBOL</th><th scope=col>ENTREZID</th><th scope=col>GENENAME</th></tr>\n",
       "\t<tr><th scope=col>&lt;chr&gt;</th><th scope=col>&lt;chr&gt;</th><th scope=col>&lt;chr&gt;</th></tr>\n",
       "</thead>\n",
       "<tbody>\n",
       "</tbody>\n",
       "</table>\n"
      ],
      "text/latex": [
       "A data.frame: 0 × 3\n",
       "\\begin{tabular}{lll}\n",
       " SYMBOL & ENTREZID & GENENAME\\\\\n",
       " <chr> & <chr> & <chr>\\\\\n",
       "\\hline\n",
       "\\end{tabular}\n"
      ],
      "text/markdown": [
       "\n",
       "A data.frame: 0 × 3\n",
       "\n",
       "| SYMBOL &lt;chr&gt; | ENTREZID &lt;chr&gt; | GENENAME &lt;chr&gt; |\n",
       "|---|---|---|\n",
       "\n"
      ],
      "text/plain": [
       "     SYMBOL ENTREZID GENENAME"
      ]
     },
     "metadata": {},
     "output_type": "display_data"
    }
   ],
   "source": [
    "duplicated_fdata"
   ]
  },
  {
   "cell_type": "code",
   "execution_count": 44,
   "metadata": {},
   "outputs": [],
   "source": [
    "## confirmed that there is no duplicates"
   ]
  },
  {
   "cell_type": "markdown",
   "metadata": {
    "tags": []
   },
   "source": [
    "### If wants to change rownames to ENTREZID"
   ]
  },
  {
   "cell_type": "code",
   "execution_count": 45,
   "metadata": {},
   "outputs": [],
   "source": [
    "# rownames(e_abc)<-fdata_nodup$ENTREZID"
   ]
  },
  {
   "cell_type": "markdown",
   "metadata": {},
   "source": [
    "## Three data sets"
   ]
  },
  {
   "cell_type": "code",
   "execution_count": 46,
   "metadata": {},
   "outputs": [],
   "source": [
    "Input_for_bc = exp_rmnp"
   ]
  },
  {
   "cell_type": "code",
   "execution_count": 47,
   "metadata": {},
   "outputs": [],
   "source": [
    "e_bbc <- Input_for_bc # before batch correction \n",
    "\n",
    "f <- fdata_nodup\n",
    "p <- met"
   ]
  },
  {
   "cell_type": "code",
   "execution_count": 48,
   "metadata": {},
   "outputs": [],
   "source": [
    "d_p <- DGEList(e_bbc)\n",
    "d_pq3 <- calcNormFactors(d_p, method=\"upperquartile\")\n",
    "d_pq3cpm <- cpm(d_pq3, log=FALSE)"
   ]
  },
  {
   "cell_type": "markdown",
   "metadata": {
    "tags": []
   },
   "source": [
    "# GROUP SELECTION & BATCH CORRECTION"
   ]
  },
  {
   "cell_type": "markdown",
   "metadata": {},
   "source": [
    "## Select Full-ROI set"
   ]
  },
  {
   "cell_type": "code",
   "execution_count": 49,
   "metadata": {},
   "outputs": [],
   "source": [
    " X0=\"Core.c.fullROI\"\n",
    " Y0=\"Yes\"\n",
    " W0=\"p\"\n",
    " Z0=\"e_bbc\" \n",
    "if (FullROI_selection == \"Y\") {\n",
    "\n",
    "select_group(X0,Y0,W0,Z0)\n",
    "\n",
    "output_p0 = get(paste(W0, \"_\", Y0, sep=\"\"))\n",
    "output_e0 = get(paste(Z0, \"_\", Y0, sep=\"\"))\n",
    "    } else {\n",
    "    output_p0 = get(W0)\n",
    "    output_e0 = get(Z0)\n",
    "    }"
   ]
  },
  {
   "cell_type": "markdown",
   "metadata": {
    "tags": []
   },
   "source": [
    "## Select Cell-type "
   ]
  },
  {
   "cell_type": "code",
   "execution_count": 50,
   "metadata": {},
   "outputs": [
    {
     "name": "stdout",
     "output_type": "stream",
     "text": [
      "[1] \"the samples in phenotype and expression data is identical: TRUE\"\n",
      "[1] \"the file name of the phenotype data is output_p0_cell_type\"\n",
      "[1] \"and the sample count in phenotype data is 139\"\n",
      "[1] \"the file name of the expression data is output_e0_cell_type\"\n",
      "[1] \"and the sample count in expression data is 139\"\n"
     ]
    }
   ],
   "source": [
    " X1=\"Segment.id\"\n",
    " Y1= \"cell_type\"\n",
    " W1=\"output_p0\"\n",
    " Z1=\"output_e0\"\n",
    "\n",
    "if (celltype_selection == \"Y\") {\n",
    "\n",
    "select_group_m(X1,Y1,W1,Z1)\n",
    "\n",
    "output_p1 = get(paste(W1, \"_\", Y1, sep=\"\"))\n",
    "output_e1 = get(paste(Z1, \"_\", Y1, sep=\"\"))\n",
    "    } else {\n",
    "    output_p1 = get(W1)\n",
    "    output_e1 = get(Z1)\n",
    "    }"
   ]
  },
  {
   "cell_type": "markdown",
   "metadata": {
    "tags": []
   },
   "source": [
    "## Batch Correction (TMA.block)"
   ]
  },
  {
   "cell_type": "code",
   "execution_count": 51,
   "metadata": {},
   "outputs": [],
   "source": [
    "# select COI\n",
    "condition = output_p1[[COI]]"
   ]
  },
  {
   "cell_type": "code",
   "execution_count": 52,
   "metadata": {
    "ExecuteTime": {
     "end_time": "2021-12-16T23:45:29.335717Z",
     "start_time": "2021-12-16T23:44:54.553Z"
    },
    "hidden": true,
    "scrolled": true
   },
   "outputs": [
    {
     "name": "stdout",
     "output_type": "stream",
     "text": [
      "Found 2 batches\n",
      "Using full model in ComBat-seq.\n",
      "Adjusting for 1 covariate(s) or covariate level(s)\n",
      "Estimating dispersions\n",
      "Fitting the GLM model\n",
      "Shrinkage off - using GLM estimates for parameters\n",
      "Adjusting the data\n"
     ]
    }
   ],
   "source": [
    "# Input data\n",
    "Input_for_bc_2 = output_e1\n",
    "#perform the batch correction\n",
    "batch = output_p1$TMA.block\n",
    "##** need to correct condition according to the phenotype interesting\n",
    "# condition = p_Cardiomyocytes$P_Normal\n",
    "\n",
    "#groups = sapply(as.character(condition), switch, \"Full ROI\" = 1, \"Trp\" = 2, \"vessel\" = 3, \"fb\" = 4, USE.NAMES = F)\n",
    "batches = sapply(as.character(batch), switch, \"1\" = 1, \"2\" = 2, USE.NAMES = F)\n",
    "output_bc = ComBat_seq(counts = as.matrix(Input_for_bc_2), batch = batches, group = condition)"
   ]
  },
  {
   "cell_type": "markdown",
   "metadata": {
    "tags": []
   },
   "source": [
    "## Select Large and LV only ROI.size=='large'"
   ]
  },
  {
   "cell_type": "code",
   "execution_count": 53,
   "metadata": {
    "tags": []
   },
   "outputs": [
    {
     "name": "stdout",
     "output_type": "stream",
     "text": [
      "[1] \"the samples in phenotype and expression data is identical: TRUE\"\n",
      "[1] \"the file name of the phenotype data is output_p1_large\"\n",
      "[1] \"and the sample count in phenotype data is 139\"\n",
      "[1] \"the file name of the expression data is output_bc_large\"\n",
      "[1] \"and the sample count in expression data is 139\"\n"
     ]
    }
   ],
   "source": [
    "    X2=\"ROI.size\"\n",
    "    Y2= ROIsize\n",
    "    W2=\"output_p1\"\n",
    "    Z2=\"output_bc\"\n",
    "## select Large and LV only ROI.size=='large'\n",
    "if (ROISIZE_selection == \"Y\") {\n",
    "    \n",
    "    select_group(X2,Y2,W2,Z2)\n",
    "    \n",
    "    output_p2 = get(paste(W2, \"_\", Y2, sep=\"\"))\n",
    "    output_e2 = get(paste(Z2, \"_\", Y2, sep=\"\"))\n",
    "} else {\n",
    "    output_p2 = get(W2)\n",
    "    output_e2 = get(Z2)\n",
    "}\n"
   ]
  },
  {
   "cell_type": "markdown",
   "metadata": {
    "tags": []
   },
   "source": [
    "## Select Large and LV only Ventricle=='LV'"
   ]
  },
  {
   "cell_type": "code",
   "execution_count": 54,
   "metadata": {},
   "outputs": [
    {
     "name": "stdout",
     "output_type": "stream",
     "text": [
      "[1] \"the samples in phenotype and expression data is identical: TRUE\"\n",
      "[1] \"the file name of the phenotype data is output_p2_LV\"\n",
      "[1] \"and the sample count in phenotype data is 118\"\n",
      "[1] \"the file name of the expression data is output_e2_LV\"\n",
      "[1] \"and the sample count in expression data is 118\"\n"
     ]
    }
   ],
   "source": [
    "    X3=\"Ventricle\"\n",
    "    Y3=ventricle_type\n",
    "    W3=\"output_p2\"\n",
    "    Z3=\"output_e2\"\n",
    "# input = output of above cell\n",
    "\n",
    "if (ventricle_selection == \"Y\") {\n",
    "    select_group(X3,Y3,W3,Z3)\n",
    "    \n",
    "    output_p5 = get(paste(W3, \"_\", Y3, sep=\"\"))\n",
    "    output_e5 = get(paste(Z3, \"_\", Y3, sep=\"\"))\n",
    "    } else {\n",
    "    output_p5 = get(W3)\n",
    "    output_e5 = get(Z3)\n",
    "    }\n"
   ]
  },
  {
   "cell_type": "markdown",
   "metadata": {},
   "source": [
    "## Select Specific Disease and Control samples"
   ]
  },
  {
   "cell_type": "code",
   "execution_count": 55,
   "metadata": {},
   "outputs": [
    {
     "name": "stdout",
     "output_type": "stream",
     "text": [
      "[1] \"the samples in phenotype and expression data is identical: TRUE\"\n",
      "[1] \"the file name of the phenotype data is output_p5_disease_type\"\n",
      "[1] \"and the sample count in phenotype data is 38\"\n",
      "[1] \"the file name of the expression data is output_e5_disease_type\"\n",
      "[1] \"and the sample count in expression data is 38\"\n"
     ]
    }
   ],
   "source": [
    "X5=disease_selection_var\n",
    "Y5=\"disease_type\"\n",
    "W5=\"output_p5\"\n",
    "Z5=\"output_e5\"\n",
    "\n",
    "if (disease_selection == \"Y\") {\n",
    "    select_group_m(X5,Y5,W5,Z5)\n",
    "    \n",
    "    output_p3 = get(paste(W5, \"_\", Y5, sep=\"\"))\n",
    "    output_e3 = get(paste(Z5, \"_\", Y5, sep=\"\"))\n",
    "    } else {\n",
    "    output_p3 = get(W5)\n",
    "    output_e3 = get(Z5)\n",
    "    }"
   ]
  },
  {
   "cell_type": "markdown",
   "metadata": {
    "tags": [],
    "toc-hr-collapsed": true
   },
   "source": [
    "# Intermediate DATA INPUT"
   ]
  },
  {
   "cell_type": "code",
   "execution_count": 56,
   "metadata": {
    "ExecuteTime": {
     "end_time": "2021-12-16T23:45:29.750006Z",
     "start_time": "2021-12-16T23:44:54.599Z"
    },
    "tags": []
   },
   "outputs": [],
   "source": [
    "d_1 <- DGEList(output_e3)"
   ]
  },
  {
   "cell_type": "markdown",
   "metadata": {
    "tags": []
   },
   "source": [
    "### Add normalization factors"
   ]
  },
  {
   "cell_type": "code",
   "execution_count": 57,
   "metadata": {
    "ExecuteTime": {
     "end_time": "2021-12-16T23:45:30.556992Z",
     "start_time": "2021-12-16T23:44:54.661Z"
    },
    "tags": []
   },
   "outputs": [],
   "source": [
    "d_1q3 <- calcNormFactors(d_1, method=\"upperquartile\")\n",
    "# d_1tmm <- calcNormFactors(d_1)"
   ]
  },
  {
   "cell_type": "markdown",
   "metadata": {
    "tags": []
   },
   "source": [
    "# OUTLIER"
   ]
  },
  {
   "cell_type": "markdown",
   "metadata": {},
   "source": [
    "## Outlier removal (from previous DE analysis)"
   ]
  },
  {
   "cell_type": "code",
   "execution_count": 58,
   "metadata": {},
   "outputs": [],
   "source": [
    "# 'PR79_2_WTA...040...Trp''PR79_1_WTA...032...Trp'\n",
    "\n",
    "# 'PR79_1_WTA...006...vessel'"
   ]
  },
  {
   "cell_type": "code",
   "execution_count": 59,
   "metadata": {},
   "outputs": [],
   "source": [
    "# outliers from DDE analysis \n",
    "pcaplot_outlier_dde <- c('PR79_1_WTA...006...vessel', # from EC \n",
    "'PR79_2_WTA...040...Trp', 'PR79_1_WTA...032...Trp'\n",
    " # from CMC\n",
    ")                         \n"
   ]
  },
  {
   "cell_type": "code",
   "execution_count": 60,
   "metadata": {},
   "outputs": [],
   "source": [
    "pcaplot_outlier<-pcaplot_outlier_dde[pcaplot_outlier_dde%in%colnames(output_e3)]"
   ]
  },
  {
   "cell_type": "code",
   "execution_count": 61,
   "metadata": {},
   "outputs": [
    {
     "data": {
      "text/html": [
       "<style>\n",
       ".list-inline {list-style: none; margin:0; padding: 0}\n",
       ".list-inline>li {display: inline-block}\n",
       ".list-inline>li:not(:last-child)::after {content: \"\\00b7\"; padding: 0 .5ex}\n",
       "</style>\n",
       "<ol class=list-inline><li>'PR79_1_WTA...006...vessel'</li><li>'PR79_2_WTA...040...Trp'</li><li>'PR79_1_WTA...032...Trp'</li></ol>\n"
      ],
      "text/latex": [
       "\\begin{enumerate*}\n",
       "\\item 'PR79\\_1\\_WTA...006...vessel'\n",
       "\\item 'PR79\\_2\\_WTA...040...Trp'\n",
       "\\item 'PR79\\_1\\_WTA...032...Trp'\n",
       "\\end{enumerate*}\n"
      ],
      "text/markdown": [
       "1. 'PR79_1_WTA...006...vessel'\n",
       "2. 'PR79_2_WTA...040...Trp'\n",
       "3. 'PR79_1_WTA...032...Trp'\n",
       "\n",
       "\n"
      ],
      "text/plain": [
       "[1] \"PR79_1_WTA...006...vessel\" \"PR79_2_WTA...040...Trp\"   \n",
       "[3] \"PR79_1_WTA...032...Trp\"   "
      ]
     },
     "metadata": {},
     "output_type": "display_data"
    }
   ],
   "source": [
    "pcaplot_outlier"
   ]
  },
  {
   "cell_type": "code",
   "execution_count": 62,
   "metadata": {},
   "outputs": [
    {
     "name": "stdout",
     "output_type": "stream",
     "text": [
      "[1] \"the samples in phenotype and expression data is identical: TRUE\"\n",
      "[1] \"the file name of the phenotype data is output_p3_rm_pcaplot_outlier\"\n",
      "[1] \"and the sample count in phenotype data is 35\"\n",
      "[1] \"the file name of the expression data is output_e3_rm_pcaplot_outlier\"\n",
      "[1] \"and the sample count in expression data is 35\"\n"
     ]
    }
   ],
   "source": [
    "Y4=\"output_p3\"\n",
    "Z4=\"output_e3\"\n",
    "\n",
    "if (grid_set == \"N\") {\n",
    "    output_p4 = get(Y4)\n",
    "    output_e4 = get(Z4)\n",
    "    } else {\n",
    "    if (grepl(\"pcaplot\", outlier_set)==TRUE) {\n",
    "        X4=outlier_set\n",
    "        } else {\n",
    "        grid_set = get(outlier_set)\n",
    "        sp_gridflag <-names(grid_set$flag[grid_set$flag==FALSE])\n",
    "        X4=\"sp_gridflag\"\n",
    "        }\n",
    "    remove_sample(X4,Y4,Z4)\n",
    "    output_p4 = get(paste(Y4, \"_rm_\", X4, sep=\"\"))\n",
    "    output_e4 = get(paste(Z4, \"_rm_\", X4, sep=\"\"))\n",
    "    }"
   ]
  },
  {
   "cell_type": "markdown",
   "metadata": {
    "tags": [],
    "toc-hr-collapsed": true
   },
   "source": [
    "# FINAL DATA INPUT"
   ]
  },
  {
   "cell_type": "code",
   "execution_count": 63,
   "metadata": {
    "ExecuteTime": {
     "end_time": "2021-12-16T23:45:29.750006Z",
     "start_time": "2021-12-16T23:44:54.599Z"
    },
    "tags": []
   },
   "outputs": [],
   "source": [
    "d0 <- DGEList(output_e4)\n",
    "m <- output_p4\n",
    "e <- output_e4\n",
    "f <- fdata_nodup\n",
    "d0$genes <- f"
   ]
  },
  {
   "cell_type": "markdown",
   "metadata": {},
   "source": [
    "### Add features of samples in \"samples\""
   ]
  },
  {
   "cell_type": "code",
   "execution_count": 64,
   "metadata": {
    "ExecuteTime": {
     "end_time": "2021-12-16T23:45:30.173610Z",
     "start_time": "2021-12-16T23:44:54.655Z"
    },
    "hidden": true,
    "tags": []
   },
   "outputs": [],
   "source": [
    "d0$samples$celltype <- m$celltype\n",
    "\n",
    "PID <- as.factor(m$PID)\n",
    "d0$samples$PID <- PID\n",
    "\n",
    "\n",
    "condition <- as.factor(m[[COI]])\n",
    "d0$samples$condition <- condition\n",
    "\n",
    "\n",
    "# Ds <- as.factor(m$Clinical_phenotype_2nd)\n",
    "# d0$samples$Ds <- Ds\n",
    "\n",
    "# levels(condition) <- c(\"Non_Endstage\", \"End_stage\")\n",
    "m <- cbind(m, condition)\n",
    "\n",
    "m$P_Normal_conv <- ifelse(m$P_Normal==1, \"Normal\", \"Diseased\")"
   ]
  },
  {
   "cell_type": "markdown",
   "metadata": {
    "tags": []
   },
   "source": [
    "### Add normalization factors"
   ]
  },
  {
   "cell_type": "code",
   "execution_count": 65,
   "metadata": {
    "ExecuteTime": {
     "end_time": "2021-12-16T23:45:30.556992Z",
     "start_time": "2021-12-16T23:44:54.661Z"
    },
    "tags": []
   },
   "outputs": [],
   "source": [
    "d1 <- calcNormFactors(d0, method=\"upperquartile\")"
   ]
  },
  {
   "cell_type": "markdown",
   "metadata": {
    "tags": [],
    "toc-hr-collapsed": true
   },
   "source": [
    "# Heatmaps "
   ]
  },
  {
   "cell_type": "code",
   "execution_count": 66,
   "metadata": {},
   "outputs": [],
   "source": [
    "options(repr.plot.width=10, repr.plot.height=10)"
   ]
  },
  {
   "cell_type": "code",
   "execution_count": 67,
   "metadata": {
    "ExecuteTime": {
     "end_time": "2021-12-16T23:45:36.622050Z",
     "start_time": "2021-12-16T23:44:54.742Z"
    },
    "tags": []
   },
   "outputs": [],
   "source": [
    "logcounts <- cpm(d1, log=TRUE)"
   ]
  },
  {
   "cell_type": "code",
   "execution_count": 68,
   "metadata": {
    "ExecuteTime": {
     "end_time": "2021-12-16T23:45:36.706584Z",
     "start_time": "2021-12-16T23:44:54.745Z"
    }
   },
   "outputs": [
    {
     "data": {
      "text/html": [
       "<style>\n",
       ".dl-inline {width: auto; margin:0; padding: 0}\n",
       ".dl-inline>dt, .dl-inline>dd {float: none; width: auto; display: inline-block}\n",
       ".dl-inline>dt::after {content: \":\\0020\"; padding-right: .5ex}\n",
       ".dl-inline>dt:not(:first-of-type) {padding-left: .5ex}\n",
       "</style><dl class=dl-inline><dt>STPG4</dt><dd>0.297809607732478</dd><dt>DNMBP</dt><dd>0.0938769450369817</dd><dt>STYXL2</dt><dd>0.932637618849457</dd><dt>KIF3C</dt><dd>0.14006879260348</dd><dt>CASC3</dt><dd>0.112345145460757</dd><dt>MIOS</dt><dd>0.204909441913126</dd></dl>\n"
      ],
      "text/latex": [
       "\\begin{description*}\n",
       "\\item[STPG4] 0.297809607732478\n",
       "\\item[DNMBP] 0.0938769450369817\n",
       "\\item[STYXL2] 0.932637618849457\n",
       "\\item[KIF3C] 0.14006879260348\n",
       "\\item[CASC3] 0.112345145460757\n",
       "\\item[MIOS] 0.204909441913126\n",
       "\\end{description*}\n"
      ],
      "text/markdown": [
       "STPG4\n",
       ":   0.297809607732478DNMBP\n",
       ":   0.0938769450369817STYXL2\n",
       ":   0.932637618849457KIF3C\n",
       ":   0.14006879260348CASC3\n",
       ":   0.112345145460757MIOS\n",
       ":   0.204909441913126\n",
       "\n"
      ],
      "text/plain": [
       "     STPG4      DNMBP     STYXL2      KIF3C      CASC3       MIOS \n",
       "0.29780961 0.09387695 0.93263762 0.14006879 0.11234515 0.20490944 "
      ]
     },
     "metadata": {},
     "output_type": "display_data"
    }
   ],
   "source": [
    "# We estimate the variance for each row in the logcounts matrix\n",
    "var_genes <- apply(logcounts, 1, var)\n",
    "head(var_genes)"
   ]
  },
  {
   "cell_type": "code",
   "execution_count": 69,
   "metadata": {
    "ExecuteTime": {
     "end_time": "2021-12-16T23:45:36.727149Z",
     "start_time": "2021-12-16T23:44:54.748Z"
    }
   },
   "outputs": [
    {
     "data": {
      "text/html": [
       "<style>\n",
       ".list-inline {list-style: none; margin:0; padding: 0}\n",
       ".list-inline>li {display: inline-block}\n",
       ".list-inline>li:not(:last-child)::after {content: \"\\00b7\"; padding: 0 .5ex}\n",
       "</style>\n",
       "<ol class=list-inline><li>'NPPB'</li><li>'NPPA'</li><li>'ACTA1'</li><li>'CD74'</li><li>'HBA2'</li><li>'XIRP1'</li></ol>\n"
      ],
      "text/latex": [
       "\\begin{enumerate*}\n",
       "\\item 'NPPB'\n",
       "\\item 'NPPA'\n",
       "\\item 'ACTA1'\n",
       "\\item 'CD74'\n",
       "\\item 'HBA2'\n",
       "\\item 'XIRP1'\n",
       "\\end{enumerate*}\n"
      ],
      "text/markdown": [
       "1. 'NPPB'\n",
       "2. 'NPPA'\n",
       "3. 'ACTA1'\n",
       "4. 'CD74'\n",
       "5. 'HBA2'\n",
       "6. 'XIRP1'\n",
       "\n",
       "\n"
      ],
      "text/plain": [
       "[1] \"NPPB\"  \"NPPA\"  \"ACTA1\" \"CD74\"  \"HBA2\"  \"XIRP1\""
      ]
     },
     "metadata": {},
     "output_type": "display_data"
    }
   ],
   "source": [
    "select_var <- names(sort(var_genes, decreasing=TRUE))[1:(length(var_genes)*0.05)]\n",
    "head(select_var)"
   ]
  },
  {
   "cell_type": "code",
   "execution_count": 70,
   "metadata": {
    "ExecuteTime": {
     "end_time": "2021-12-16T23:45:36.742515Z",
     "start_time": "2021-12-16T23:44:54.750Z"
    }
   },
   "outputs": [
    {
     "data": {
      "text/html": [
       "<style>\n",
       ".list-inline {list-style: none; margin:0; padding: 0}\n",
       ".list-inline>li {display: inline-block}\n",
       ".list-inline>li:not(:last-child)::after {content: \"\\00b7\"; padding: 0 .5ex}\n",
       "</style>\n",
       "<ol class=list-inline><li>640</li><li>35</li></ol>\n"
      ],
      "text/latex": [
       "\\begin{enumerate*}\n",
       "\\item 640\n",
       "\\item 35\n",
       "\\end{enumerate*}\n"
      ],
      "text/markdown": [
       "1. 640\n",
       "2. 35\n",
       "\n",
       "\n"
      ],
      "text/plain": [
       "[1] 640  35"
      ]
     },
     "metadata": {},
     "output_type": "display_data"
    }
   ],
   "source": [
    "# Subset logcounts matrix\n",
    "highly_variable_lcpm <- logcounts[select_var,]\n",
    "dim(highly_variable_lcpm)"
   ]
  },
  {
   "cell_type": "markdown",
   "metadata": {
    "tags": []
   },
   "source": [
    "# INPUT differentially expressed genes & LEsum"
   ]
  },
  {
   "cell_type": "code",
   "execution_count": 71,
   "metadata": {},
   "outputs": [],
   "source": [
    "# Differential\n",
    "file1=\"fSupplT5_DE_SejongIn_Clinical_phenotype_LV_FullROI_N_cellselection_Y_Cardiomyocytes_ROI_large_Vent_LV_DsSelect_ICMP__Control_Y_OL_pcaplot_outlier_RE_PID_Institute_Fixation.interval_KR_Y2023-06-22conditionICMP_conditionControl.csv\"\n",
    "file2=\"fSupplT6_DE_SejongIn_Clinical_phenotype_LV_FullROI_N_cellselection_Y_Endothelial_cells_ROI_large_Vent_LV_DsSelect_ICMP__Control_Y_OL_N_RE_PID_Institute_Fixation.interval_KR_Y2023-06-22conditionICMP_conditionControl.csv\"\n"
   ]
  },
  {
   "cell_type": "code",
   "execution_count": 72,
   "metadata": {},
   "outputs": [],
   "source": [
    "sum_files_DE <- c(file1, file2\n",
    "                  # , file3, file4, file5, file6, file7\n",
    "               )\n",
    "list_DEsum <- list()\n",
    "number <- 1\n",
    "for (i in sum_files_DE){\n",
    "    pathtodesum <- file.path(getwd(), \"results\", i)\n",
    "    list_DEsum[[number]] <- read.csv(pathtodesum, row.names= 1, header = TRUE, stringsAsFactors=FALSE)\n",
    "    number = number+1\n",
    "    }\n",
    "\n",
    "df_list_DEsum = do.call(rbind, list_DEsum)"
   ]
  },
  {
   "cell_type": "markdown",
   "metadata": {},
   "source": [
    "## adjp-value 0.05 "
   ]
  },
  {
   "cell_type": "code",
   "execution_count": 73,
   "metadata": {},
   "outputs": [],
   "source": [
    "df_list_DEsum_adj05=df_list_DEsum[df_list_DEsum$adj.P.Val<0.05,]"
   ]
  },
  {
   "cell_type": "code",
   "execution_count": 74,
   "metadata": {},
   "outputs": [],
   "source": [
    "genelist_df_list_DEsum_adj05 = unique(df_list_DEsum_adj05[,1])"
   ]
  },
  {
   "cell_type": "code",
   "execution_count": 75,
   "metadata": {},
   "outputs": [
    {
     "data": {
      "text/html": [
       "96"
      ],
      "text/latex": [
       "96"
      ],
      "text/markdown": [
       "96"
      ],
      "text/plain": [
       "[1] 96"
      ]
     },
     "metadata": {},
     "output_type": "display_data"
    }
   ],
   "source": [
    "length(genelist_df_list_DEsum_adj05)"
   ]
  },
  {
   "cell_type": "code",
   "execution_count": 76,
   "metadata": {},
   "outputs": [],
   "source": [
    "heatmap_de_adj05 <- function(arg_path){\n",
    "    # find gene ids\n",
    "#     genesinpath = unname(unlist(pathways.h[arg_path]))[order(unname(unlist(pathways.h[arg_path])))]\n",
    "\n",
    "#     # convert gene ids to symbols\n",
    "#     symbolsinpath = unname(unlist(d1$genes[d1$genes$ENTREZID %in% genesinpath,][1]))\n",
    "\n",
    "#     # subset logounts matrix\n",
    "#     pw_variable_lcpm = logcounts[symbolsinpath,]\n",
    "    \n",
    "    pw_LEgenes <- logcounts[genelist_df_list_DEsum_adj05,]\n",
    "    \n",
    "    # # % variable genes only \n",
    "    # pw_var_genes <- apply(pw_variable_lcpm, 1, var)\n",
    "    # pw_select_var <- names(sort(pw_var_genes, decreasing=TRUE))[1:as.integer(length(pw_var_genes)*1)] # select %of variable genes\n",
    "    # pw_highly_variable_lcpm <- pw_variable_lcpm[pw_select_var,]\n",
    "\n",
    "    # scale by row\n",
    "    scaled_pw_LEgenes = t(scale(t(pw_LEgenes)))\n",
    "                                                                              \n",
    "    # Plot the heatmap\n",
    "    # change P_Normal\n",
    "    m <- m %>% mutate(Clinical_phenotype_LV2 = ifelse(Clinical_phenotype_LV==\"ES_HCMP\", \"HCMPrEF\", ifelse(Clinical_phenotype_LV==\"NES_HCMP\", \"HCMPpEF\", Clinical_phenotype_LV))) \n",
    "    ## Annotation\n",
    "    ha = HeatmapAnnotation(\n",
    "    Celltype = condition,\n",
    "    Disease = m$Clinical_phenotype_LV2\n",
    "        ,\n",
    "        # Degeneration = m$P_Deg_012,\n",
    "        # Hypertrophy = m$P_Hyp_012,\n",
    "        # Fibrosis = m$P_Fib_012,\n",
    "    col = list(Celltype = c(\"CMC\" = \"red\", \"EC\" = \"lightblue\"),\n",
    "               Disease = c(\"Control\" = \"white\", \"DCMP\" = \"green\", \"ICMP\" = \"orange\", \"HCMPrEF\" = \"blue\", \"HCMPpEF\" = \"coral4\")\n",
    "               # ,\n",
    "               # Degeneration = c(\"0\" = \"azure1\", \"1\" = \"azure2\", \"2\" = \"azure3\"),\n",
    "               # Hypertrophy = c(\"0\" = \"cadetblue1\", \"1\" = \"cadetblue3\", \"2\" = \"cadetblue4\"),\n",
    "               # Fibrosis = c(\"0\" = \"darkolivegreen1\", \"1\" = \"darkolivegreen2\", \"2\" = \"darkolivegreen4\")\n",
    "               )\n",
    "    , annotation_name_side = \"left\"\n",
    "        , annotation_legend_param = list(\n",
    "        Celltype = list(nrow=1, direction = \"horizontal\"),\n",
    "        Disease = list(nrow = 1, direction = \"horizontal\")\n",
    "        , labels_gp=gpar(fontsize =14, fontface = \"plain\", fontfamily=\"sans\"))\n",
    "    \n",
    "\n",
    "    )\n",
    "    \n",
    "    \n",
    "    htmap <-Heatmap(scaled_pw_LEgenes, name=\"lcpm\", top_annotation = ha\n",
    "                        ,column_dend_height = unit(1, \"cm\")\n",
    "            , show_column_names = FALSE\n",
    "            , row_names_gp = gpar(fontsize = 6)\n",
    "            , column_title_side = \"bottom\"\n",
    "            , cluster_columns = agnes(t(scaled_pw_LEgenes), metric = \"manhattan\", method = \"average\")\n",
    "            , heatmap_legend_param = list(nrow=1, direction = \"horizontal\", labels_gp=gpar(fontsize = 14, fontface = \"plain\" , fontfamily=\"sans\"))\n",
    "\n",
    "            # , clustering_distance_columns = robust_dist\n",
    "            # , clustering_distance_rows = robust_dist\n",
    "           )\n",
    "    draw(htmap, heatmap_legend_side = \"bottom\", annotation_legend_side = \"bottom\")\n",
    "    \n",
    "    }\n"
   ]
  },
  {
   "cell_type": "code",
   "execution_count": 77,
   "metadata": {},
   "outputs": [
    {
     "data": {
      "image/png": "[encoded data removed]",
      "text/plain": [
       "plot without title"
      ]
     },
     "metadata": {
      "image/png": {
       "height": 600,
       "width": 600
      }
     },
     "output_type": "display_data"
    }
   ],
   "source": [
    "heatmap_adj<-heatmap_de_adj05()"
   ]
  },
  {
   "cell_type": "code",
   "execution_count": 78,
   "metadata": {},
   "outputs": [],
   "source": [
    "saveRDS(heatmap_adj, file = \"Figure4_heatmap_ICMP.rds\")"
   ]
  },
  {
   "cell_type": "code",
   "execution_count": null,
   "metadata": {},
   "outputs": [],
   "source": []
  },
  {
   "cell_type": "code",
   "execution_count": 80,
   "metadata": {},
   "outputs": [
    {
     "data": {
      "text/plain": [
       "R version 4.0.0 (2020-04-24)\n",
       "Platform: x86_64-pc-linux-gnu (64-bit)\n",
       "Running under: CentOS Linux 7 (Core)\n",
       "\n",
       "Matrix products: default\n",
       "BLAS:   /opt/applications/R/4.0.0/gnu/lib64/R/lib/libRblas.so\n",
       "LAPACK: /opt/applications/R/4.0.0/gnu/lib64/R/lib/libRlapack.so\n",
       "\n",
       "locale:\n",
       " [1] LC_CTYPE=en_US.UTF-8       LC_NUMERIC=C              \n",
       " [3] LC_TIME=en_US.UTF-8        LC_COLLATE=en_US.UTF-8    \n",
       " [5] LC_MONETARY=en_US.UTF-8    LC_MESSAGES=en_US.UTF-8   \n",
       " [7] LC_PAPER=en_US.UTF-8       LC_NAME=C                 \n",
       " [9] LC_ADDRESS=C               LC_TELEPHONE=C            \n",
       "[11] LC_MEASUREMENT=en_US.UTF-8 LC_IDENTIFICATION=C       \n",
       "\n",
       "attached base packages:\n",
       " [1] grid      stats4    parallel  stats     graphics  grDevices utils    \n",
       " [8] datasets  methods   base     \n",
       "\n",
       "other attached packages:\n",
       " [1] ComplexHeatmap_2.4.3      DT_0.27                  \n",
       " [3] data.table_1.14.8         fgsea_1.14.0             \n",
       " [5] RCy3_2.8.1                GSA_1.03.1               \n",
       " [7] RCurl_1.98-1.10           spatstat_3.0-3           \n",
       " [9] spatstat.linnet_3.0-6     spatstat.model_3.2-1     \n",
       "[11] rpart_4.1.19              spatstat.explore_3.1-0   \n",
       "[13] spatstat.random_3.1-4     spatstat.geom_3.1-0      \n",
       "[15] spatstat.data_3.0-1       bigutilsr_0.3.4          \n",
       "[17] GEOquery_2.56.0           PCAtools_2.0.0           \n",
       "[19] cowplot_1.1.1             lattice_0.20-45          \n",
       "[21] reshape2_1.4.4            ggrepel_0.9.2            \n",
       "[23] rafalib_1.0.0             matrixStats_0.63.0       \n",
       "[25] preprocessCore_1.50.0     org.Hs.eg.db_3.11.4      \n",
       "[27] GO.db_3.11.4              AnnotationDbi_1.50.3     \n",
       "[29] IRanges_2.24.1            S4Vectors_0.28.1         \n",
       "[31] NMF_0.25                  bigmemory_4.6.1          \n",
       "[33] Biobase_2.50.0            BiocGenerics_0.36.1      \n",
       "[35] cluster_2.1.4             rngtools_1.5.2           \n",
       "[37] registry_0.5-1            gplots_3.1.3             \n",
       "[39] variancePartition_1.25.13 Glimma_1.16.0            \n",
       "[41] RColorBrewer_1.1-3        BatchQC_1.16.3           \n",
       "[43] lubridate_1.9.2           forcats_1.0.0            \n",
       "[45] stringr_1.5.0             dplyr_1.1.0              \n",
       "[47] purrr_1.0.1               readr_2.1.4              \n",
       "[49] tidyr_1.3.0               tibble_3.2.0             \n",
       "[51] tidyverse_2.0.0           UpSetR_1.4.0             \n",
       "[53] edgeR_3.30.3              limma_3.44.3             \n",
       "[55] gridExtra_2.3             ggplot2_3.4.1            \n",
       "[57] sva_3.36.0                BiocParallel_1.22.0      \n",
       "[59] genefilter_1.70.0         mgcv_1.8-42              \n",
       "[61] nlme_3.1-162             \n",
       "\n",
       "loaded via a namespace (and not attached):\n",
       "  [1] utf8_1.2.3                R.utils_2.12.2           \n",
       "  [3] tidyselect_1.2.0          lme4_1.1-31              \n",
       "  [5] heatmaply_1.3.0           RSQLite_2.3.0            \n",
       "  [7] htmlwidgets_1.6.1         TSP_1.1-11               \n",
       "  [9] munsell_0.5.0             codetools_0.2-19         \n",
       " [11] pbdZMQ_0.3-9              withr_2.5.0              \n",
       " [13] colorspace_2.1-0          knitr_1.42               \n",
       " [15] uuid_1.1-0                tensor_1.5               \n",
       " [17] Rdpack_2.4                repr_1.1.4.9000          \n",
       " [19] polyclip_1.10-4           MCMCpack_1.6-3           \n",
       " [21] bit64_4.0.5               ggvis_0.4.7              \n",
       " [23] coda_0.19-4               vctrs_0.5.2              \n",
       " [25] generics_0.1.3            xfun_0.37                \n",
       " [27] timechange_0.2.0          R6_2.5.1                 \n",
       " [29] bigassertr_0.1.5          doParallel_1.0.17        \n",
       " [31] clue_0.3-64               rsvd_1.0.5               \n",
       " [33] RJSONIO_1.3-1.8           seriation_1.3.0          \n",
       " [35] locfit_1.5-9.4            bitops_1.0-7             \n",
       " [37] spatstat.utils_3.0-2      cachem_1.0.7             \n",
       " [39] DelayedArray_0.14.1       assertthat_0.2.1         \n",
       " [41] promises_1.2.0.1          scales_1.2.1             \n",
       " [43] gtable_0.3.1              Cairo_1.6-0              \n",
       " [45] goftest_1.2-3             mcmc_0.9-7               \n",
       " [47] rlang_1.1.0               MatrixModels_0.5-1       \n",
       " [49] GlobalOptions_0.1.2       splines_4.0.0            \n",
       " [51] lazyeval_0.2.2            broom_1.0.4              \n",
       " [53] abind_1.4-5               BiocManager_1.30.20      \n",
       " [55] backports_1.4.1           httpuv_1.6.9             \n",
       " [57] tools_4.0.0               gridBase_0.4-7           \n",
       " [59] ellipsis_0.3.2            Rcpp_1.0.10              \n",
       " [61] plyr_1.8.8                base64enc_0.1-3          \n",
       " [63] progress_1.2.2            prettyunits_1.1.1        \n",
       " [65] deldir_1.0-6              GetoptLong_1.0.5         \n",
       " [67] viridis_0.6.2             magrittr_2.0.3           \n",
       " [69] RSpectra_0.16-1           circlize_0.4.14          \n",
       " [71] SparseM_1.81              hms_1.1.2                \n",
       " [73] mime_0.12                 evaluate_0.20            \n",
       " [75] xtable_1.8-4              pbkrtest_0.5.1           \n",
       " [77] RhpcBLASctl_0.23-42       XML_3.99-0.13            \n",
       " [79] shape_1.4.6               compiler_4.0.0           \n",
       " [81] KernSmooth_2.23-20        crayon_1.5.2             \n",
       " [83] R.oo_1.25.0               minqa_1.2.5              \n",
       " [85] htmltools_0.5.4           corpcor_1.6.10           \n",
       " [87] later_1.3.0               tzdb_0.3.0               \n",
       " [89] DBI_1.1.3                 MASS_7.3-58.3            \n",
       " [91] boot_1.3-28.1             Matrix_1.5-3             \n",
       " [93] cli_3.6.0                 R.methodsS3_1.8.2        \n",
       " [95] rbibutils_2.2.13          igraph_1.4.1             \n",
       " [97] pkgconfig_2.0.3           bigmemory.sri_0.1.6      \n",
       " [99] spatstat.sparse_3.0-1     IRdisplay_1.1            \n",
       "[101] plotly_4.10.1             xml2_1.3.3               \n",
       "[103] foreach_1.5.2             annotate_1.66.0          \n",
       "[105] dqrng_0.3.0               webshot_0.5.4            \n",
       "[107] digest_0.6.31             graph_1.66.0             \n",
       "[109] fastmatch_1.1-3           rmarkdown_2.20           \n",
       "[111] dendextend_1.16.0         DelayedMatrixStats_1.10.1\n",
       "[113] shiny_1.7.3               gtools_3.9.4             \n",
       "[115] quantreg_5.94             rjson_0.2.21             \n",
       "[117] nloptr_2.0.3              lifecycle_1.0.3          \n",
       "[119] jsonlite_1.8.4            aod_1.3.2                \n",
       "[121] viridisLite_0.4.1         fansi_1.0.4              \n",
       "[123] pillar_1.8.1              fastmap_1.1.1            \n",
       "[125] httr_1.4.5                survival_3.5-5           \n",
       "[127] glue_1.6.2                png_0.1-8                \n",
       "[129] iterators_1.0.14          pander_0.6.5             \n",
       "[131] bit_4.0.5                 stringi_1.7.12           \n",
       "[133] blob_1.2.3                moments_0.14             \n",
       "[135] BiocSingular_1.4.0        caTools_1.18.2           \n",
       "[137] memoise_2.0.1             IRkernel_1.3.2           \n",
       "[139] irlba_2.3.5.1            "
      ]
     },
     "metadata": {},
     "output_type": "display_data"
    }
   ],
   "source": [
    "sessionInfo()"
   ]
  },
  {
   "cell_type": "code",
   "execution_count": null,
   "metadata": {},
   "outputs": [],
   "source": []
  }
 ],
 "metadata": {
  "kernelspec": {
   "display_name": "R-Sang",
   "language": "R",
   "name": "r-sang"
  },
  "language_info": {
   "codemirror_mode": "r",
   "file_extension": ".r",
   "mimetype": "text/x-r-source",
   "name": "R",
   "pygments_lexer": "r",
   "version": "4.0.0"
  },
  "toc-autonumbering": false,
  "toc-showtags": false
 },
 "nbformat": 4,
 "nbformat_minor": 4
}
